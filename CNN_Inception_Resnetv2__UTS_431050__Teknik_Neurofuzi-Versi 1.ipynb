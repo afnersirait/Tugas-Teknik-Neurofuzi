{
  "nbformat": 4,
  "nbformat_minor": 0,
  "metadata": {
    "colab": {
      "name": "CNN Inception-Resnetv2 _UTS_431050_ Teknik Neurofuzi.ipynb",
      "provenance": [],
      "collapsed_sections": []
    },
    "kernelspec": {
      "display_name": "Python 3",
      "name": "python3"
    },
    "language_info": {
      "name": "python"
    },
    "accelerator": "GPU"
  },
  "cells": [
    {
      "cell_type": "markdown",
      "metadata": {
        "id": "ZysXt8HR-Jcu"
      },
      "source": [
        "#Connecting colab to Google Drive"
      ]
    },
    {
      "cell_type": "code",
      "metadata": {
        "colab": {
          "base_uri": "https://localhost:8080/"
        },
        "id": "CpObeI_yirif",
        "outputId": "19f3ab9d-96e7-4486-ce32-f1b2d7f81c0e"
      },
      "source": [
        "#Connect your Google Drive  \n",
        "from google.colab import drive\n",
        "drive.mount('/content/drive')"
      ],
      "execution_count": null,
      "outputs": [
        {
          "output_type": "stream",
          "name": "stdout",
          "text": [
            "Drive already mounted at /content/drive; to attempt to forcibly remount, call drive.mount(\"/content/drive\", force_remount=True).\n"
          ]
        }
      ]
    },
    {
      "cell_type": "markdown",
      "metadata": {
        "id": "hoFDLnsW-aRU"
      },
      "source": [
        "##Check list files of target file directory "
      ]
    },
    {
      "cell_type": "code",
      "metadata": {
        "colab": {
          "base_uri": "https://localhost:8080/"
        },
        "id": "0DMClUF8lAy_",
        "outputId": "3ca7b467-d896-458a-cabe-858fd36ead03"
      },
      "source": [
        "import os\n",
        "\n",
        "# Walk through Corona_Normal directory and list number of files\n",
        "for dirpath, dirnames, filenames in os.walk(\"/content/drive/MyDrive/Corona_normal\"):\n",
        "  print(f\"There are {len(dirnames)} directories and {len(filenames)} images in '{dirpath}'.\")"
      ],
      "execution_count": null,
      "outputs": [
        {
          "output_type": "stream",
          "name": "stdout",
          "text": [
            "There are 3 directories and 0 images in '/content/drive/MyDrive/Corona_normal'.\n",
            "There are 2 directories and 0 images in '/content/drive/MyDrive/Corona_normal/Test'.\n",
            "There are 0 directories and 978 images in '/content/drive/MyDrive/Corona_normal/Test/Normal'.\n",
            "There are 0 directories and 228 images in '/content/drive/MyDrive/Corona_normal/Test/Covid'.\n",
            "There are 2 directories and 0 images in '/content/drive/MyDrive/Corona_normal/Train'.\n",
            "There are 0 directories and 1826 images in '/content/drive/MyDrive/Corona_normal/Train/Covid'.\n",
            "There are 0 directories and 7821 images in '/content/drive/MyDrive/Corona_normal/Train/Normal'.\n",
            "There are 2 directories and 0 images in '/content/drive/MyDrive/Corona_normal/Validation'.\n",
            "There are 0 directories and 978 images in '/content/drive/MyDrive/Corona_normal/Validation/Normal'.\n",
            "There are 0 directories and 228 images in '/content/drive/MyDrive/Corona_normal/Validation/Covid'.\n"
          ]
        }
      ]
    },
    {
      "cell_type": "markdown",
      "metadata": {
        "id": "9Ee67gFa-s23"
      },
      "source": [
        "#Check and view the Dataset"
      ]
    },
    {
      "cell_type": "markdown",
      "metadata": {
        "id": "PN2B9hT7_Bie"
      },
      "source": [
        "##Get the class names based on the the name of subdirectories"
      ]
    },
    {
      "cell_type": "code",
      "metadata": {
        "colab": {
          "base_uri": "https://localhost:8080/"
        },
        "id": "NasTpeaLMhdc",
        "outputId": "3a33c3b6-b710-4e74-9144-a1e3502997cc"
      },
      "source": [
        "# Get the class names (programmatically, this is much more helpful with a longer list of classes)\n",
        "import pathlib\n",
        "import numpy as np\n",
        "data_dir = pathlib.Path(\"/content/drive/MyDrive/Corona_normal/Train\") # turn our training path into a Python path\n",
        "class_names = np.array(sorted([item.name for item in data_dir.glob('*')])) # created a list of class_names from the subdirectories\n",
        "print(class_names)"
      ],
      "execution_count": null,
      "outputs": [
        {
          "output_type": "stream",
          "name": "stdout",
          "text": [
            "['Covid' 'Normal']\n"
          ]
        }
      ]
    },
    {
      "cell_type": "markdown",
      "metadata": {
        "id": "Y66eWN4X_Ox8"
      },
      "source": [
        "##View image method"
      ]
    },
    {
      "cell_type": "code",
      "metadata": {
        "id": "QJ6Evf5ONC38"
      },
      "source": [
        "# View an image\n",
        "import matplotlib.pyplot as plt\n",
        "import matplotlib.image as mpimg\n",
        "import random\n",
        "\n",
        "def view_random_image(target_dir, target_class):\n",
        "  # Setup target directory (we'll view images from here)\n",
        "  target_folder = target_dir+target_class\n",
        "\n",
        "  # Get a random image path\n",
        "  random_image = random.sample(os.listdir(target_folder), 1)\n",
        "\n",
        "  # Read in the image and plot it using matplotlib\n",
        "  img = mpimg.imread(target_folder + \"/\" + random_image[0])\n",
        "  plt.imshow(img)\n",
        "  plt.title(target_class)\n",
        "  plt.axis(\"off\");\n",
        "\n",
        "  print(f\"Image shape: {img.shape}\") # show the shape of the image\n",
        "\n",
        "  return img"
      ],
      "execution_count": null,
      "outputs": []
    },
    {
      "cell_type": "markdown",
      "metadata": {
        "id": "iRNfx68GFvzL"
      },
      "source": [
        "##Visualize data and comparing Covid and Normal CT scan"
      ]
    },
    {
      "cell_type": "code",
      "metadata": {
        "colab": {
          "base_uri": "https://localhost:8080/",
          "height": 233
        },
        "id": "_9eQJrCJF6K9",
        "outputId": "77c84699-3e64-414d-fe92-878ba17000e3"
      },
      "source": [
        "# Visualize data (requires function 'view_random_image' above)\n",
        "plt.figure()\n",
        "plt.subplot(1, 2, 1)\n",
        "steak_img = view_random_image(\"/content/drive/MyDrive/Corona_normal/Train/\", \"Covid\")\n",
        "plt.subplot(1, 2, 2)\n",
        "pizza_img = view_random_image(\"/content/drive/MyDrive/Corona_normal/Train/\", \"Normal\")"
      ],
      "execution_count": null,
      "outputs": [
        {
          "output_type": "stream",
          "name": "stdout",
          "text": [
            "Image shape: (512, 512)\n",
            "Image shape: (512, 512)\n"
          ]
        },
        {
          "output_type": "display_data",
          "data": {
            "image/png": "[encoded data removed]",
            "text/plain": [
              "<Figure size 432x288 with 2 Axes>"
            ]
          },
          "metadata": {
            "needs_background": "light"
          }
        }
      ]
    },
    {
      "cell_type": "markdown",
      "metadata": {
        "id": "SKnbR83V_blx"
      },
      "source": [
        "#Preprocessing dataset"
      ]
    },
    {
      "cell_type": "markdown",
      "metadata": {
        "id": "Th3U933z_m1s"
      },
      "source": [
        "##Set the data generator for applying Data Augmentation methods\n",
        "\n"
      ]
    },
    {
      "cell_type": "code",
      "metadata": {
        "id": "7cp1sP7sNPrk"
      },
      "source": [
        "import tensorflow as tf\n",
        "from tensorflow.keras.preprocessing.image import ImageDataGenerator\n",
        "from tensorflow.python.keras.applications.inception_resnet_v2 import InceptionResNetV2, preprocess_input\n",
        "\n",
        "# Set the seed\n",
        "tf.random.set_seed(42)\n",
        "#Here we set the data generators for applying data augmentation methods\n",
        "train_datagen = ImageDataGenerator(\n",
        "    preprocessing_function=preprocess_input, \n",
        "    rescale=1.0/255,\n",
        "    horizontal_flip=True,\n",
        "    vertical_flip=True,\n",
        "    zoom_range=0.05,\n",
        "    rotation_range=360,\n",
        "    width_shift_range=0.05,\n",
        "    height_shift_range=0.05,\n",
        "    shear_range=0.05)\n",
        "valid_datagen = ImageDataGenerator(\n",
        "    preprocessing_function=preprocess_input,\n",
        "    rescale=1.0/255)\n",
        "test_datagen = ImageDataGenerator(\n",
        "    preprocessing_function=preprocess_input,\n",
        "    rescale=1.0/255)\n",
        "\n",
        "# Setup the train and test directories\n",
        "train_dir = \"/content/drive/MyDrive/Corona_normal/Train/\"\n",
        "valid_dir = \"/content/drive/MyDrive/Corona_normal/Validation\"\n",
        "test_dir = \"/content/drive/MyDrive/Corona_normal/Test/\"\n",
        "\n",
        "shape=(512,512,1) #shape of the dataset images (in TIFF format)"
      ],
      "execution_count": null,
      "outputs": []
    },
    {
      "cell_type": "markdown",
      "metadata": {
        "id": "6TSPQJAt_6gk"
      },
      "source": [
        "##Import data from directories and turn it into batches"
      ]
    },
    {
      "cell_type": "code",
      "metadata": {
        "colab": {
          "base_uri": "https://localhost:8080/"
        },
        "id": "ElR2O7giOnx3",
        "outputId": "f5067273-6a5c-4261-db5f-dd8252003c05"
      },
      "source": [
        "train_data = train_datagen.flow_from_directory(\n",
        "    train_dir,\n",
        "    batch_size=5, # number of images to process at a time \n",
        "    target_size=shape[:2], # convert all images to be 224 x 224\n",
        "    class_mode=\"categorical\", # type of problem we're working on\n",
        "    seed=42,\n",
        "    color_mode=\"grayscale\",shuffle=True)\n",
        "valid_data = test_datagen.flow_from_directory(\n",
        "    valid_dir,\n",
        "    batch_size=5, # number of images to process at a time \n",
        "    target_size=shape[:2], # convert all images to be 224 x 224\n",
        "    class_mode=\"categorical\", # type of problem we're working on\n",
        "    seed=42,\n",
        "    color_mode=\"grayscale\",shuffle=True)\n",
        "test_data = test_datagen.flow_from_directory(\n",
        "    test_dir,\n",
        "    batch_size=5, # number of images to process at a time \n",
        "    target_size=shape[:2], # convert all images to be 224 x 224\n",
        "    class_mode=\"categorical\", # type of problem we're working on\n",
        "    seed=42,\n",
        "    color_mode=\"grayscale\",shuffle=True)"
      ],
      "execution_count": null,
      "outputs": [
        {
          "output_type": "stream",
          "name": "stdout",
          "text": [
            "Found 9647 images belonging to 2 classes.\n",
            "Found 1206 images belonging to 2 classes.\n",
            "Found 1206 images belonging to 2 classes.\n"
          ]
        }
      ]
    },
    {
      "cell_type": "markdown",
      "metadata": {
        "id": "By3fmIw5AcSE"
      },
      "source": [
        "##Check class indices"
      ]
    },
    {
      "cell_type": "code",
      "metadata": {
        "colab": {
          "base_uri": "https://localhost:8080/"
        },
        "id": "CxW81GfgRFFM",
        "outputId": "c008b307-3475-4f8d-c707-79ddfb1a5008"
      },
      "source": [
        "# show class indices\n",
        "print('****************')\n",
        "for cls, idx in train_data.class_indices.items():\n",
        "    print('Class #{} = {}'.format(idx, cls))\n",
        "print('****************')"
      ],
      "execution_count": null,
      "outputs": [
        {
          "output_type": "stream",
          "name": "stdout",
          "text": [
            "****************\n",
            "Class #0 = Covid\n",
            "Class #1 = Normal\n",
            "****************\n"
          ]
        }
      ]
    },
    {
      "cell_type": "markdown",
      "metadata": {
        "id": "Ig_SrHFmTO2K"
      },
      "source": [
        "#Create a CNN Inception-ResnetV2 model "
      ]
    },
    {
      "cell_type": "markdown",
      "metadata": {
        "id": "zkUifZUDAnts"
      },
      "source": [
        "##Import Libraries"
      ]
    },
    {
      "cell_type": "code",
      "metadata": {
        "id": "1qVS2x0pS17d"
      },
      "source": [
        "# Importing the required libraries \n",
        "\n",
        "import numpy as np\n",
        "import pandas as pd\n",
        "import tensorflow as tf\n",
        "from tensorflow import keras\n",
        "from tensorflow.keras import backend\n",
        "from tensorflow.keras.preprocessing.image import ImageDataGenerator\n",
        "from tensorflow.keras.layers import Input, Conv2D, MaxPooling2D, GlobalAveragePooling2D, BatchNormalization\n",
        "from tensorflow.keras.layers import Dense, Dropout, Flatten, Activation, Concatenate, Lambda\n",
        "from tensorflow.keras.models import Model\n",
        "from tensorflow.keras.callbacks import EarlyStopping, ReduceLROnPlateau, ModelCheckpoint\n",
        "from tensorflow.keras.optimizers import Adam\n",
        "from tensorflow.keras import regularizers, activations\n",
        "from tensorflow.experimental.numpy import ndim\n",
        "import os\n",
        "from sklearn.utils import shuffle\n",
        "from sklearn.metrics import classification_report, confusion_matrix, roc_curve, auc\n",
        "from sklearn.model_selection import train_test_split\n",
        "import matplotlib.pyplot as plt\n",
        "#import itertools\n",
        "#import shutil\n",
        "%matplotlib inline"
      ],
      "execution_count": null,
      "outputs": []
    },
    {
      "cell_type": "markdown",
      "metadata": {
        "id": "qdKLNn4bAsE8"
      },
      "source": [
        "##Additional code from stack over flow \"How to solve 'No Algorithm Worked' Keras Error?\" "
      ]
    },
    {
      "cell_type": "code",
      "metadata": {
        "id": "U-jAsiFowkJ3"
      },
      "source": [
        "from tensorflow.compat.v1 import ConfigProto\n",
        "from tensorflow.compat.v1 import InteractiveSession\n",
        "\n",
        "config = ConfigProto()\n",
        "config.gpu_options.allow_growth = True\n",
        "session = InteractiveSession(config=config)"
      ],
      "execution_count": null,
      "outputs": []
    },
    {
      "cell_type": "markdown",
      "metadata": {
        "id": "AemRbYxPTVF5"
      },
      "source": [
        "##Convolutional Block"
      ]
    },
    {
      "cell_type": "code",
      "metadata": {
        "id": "z2rwv1ugTTE_"
      },
      "source": [
        "def conv2d(x,numfilt,filtsz,strides=1,pad='same',act=True,name=None):\n",
        "  x = Conv2D(numfilt,filtsz,strides,padding=pad,data_format='channels_last',use_bias=False,name=name+'conv2d')(x)\n",
        "  x = BatchNormalization(axis=3,scale=False,name=name+'conv2d'+'bn')(x)\n",
        "  if act:\n",
        "    x = Activation('relu',name=name+'conv2d'+'act')(x)\n",
        "  return x"
      ],
      "execution_count": null,
      "outputs": []
    },
    {
      "cell_type": "markdown",
      "metadata": {
        "id": "ypt3Hge_Tngd"
      },
      "source": [
        "##Inception ResNet A block"
      ]
    },
    {
      "cell_type": "code",
      "metadata": {
        "id": "0CYpDpOLTmhz"
      },
      "source": [
        "def incresA(x,scale,name=None):\n",
        "    pad = 'same'\n",
        "    branch0 = conv2d(x,32,1,1,pad,True,name=name+'b0')\n",
        "    branch1 = conv2d(x,32,1,1,pad,True,name=name+'b1_1')\n",
        "    branch1 = conv2d(branch1,32,3,1,pad,True,name=name+'b1_2')\n",
        "    branch2 = conv2d(x,32,1,1,pad,True,name=name+'b2_1')\n",
        "    branch2 = conv2d(branch2,48,3,1,pad,True,name=name+'b2_2')\n",
        "    branch2 = conv2d(branch2,64,3,1,pad,True,name=name+'b2_3')\n",
        "    branches = [branch0,branch1,branch2]\n",
        "    mixed = Concatenate(axis=3, name=name + '_concat')(branches)\n",
        "    filt_exp_1x1 = conv2d(mixed,384,1,1,pad,False,name=name+'filt_exp_1x1')\n",
        "    final_lay = Lambda(lambda inputs, scale: inputs[0] + inputs[1] * scale,\n",
        "                      output_shape=backend.int_shape(x)[1:],\n",
        "                      arguments={'scale': scale},\n",
        "                      name=name+'act_scaling')([x, filt_exp_1x1])\n",
        "    return final_lay"
      ],
      "execution_count": null,
      "outputs": []
    },
    {
      "cell_type": "markdown",
      "metadata": {
        "id": "-z6kOfSITxrY"
      },
      "source": [
        "##Inception ResNet B block"
      ]
    },
    {
      "cell_type": "code",
      "metadata": {
        "id": "CinROH4gT0Zy"
      },
      "source": [
        "def incresB(x,scale,name=None):\n",
        "    pad = 'same'\n",
        "    branch0 = conv2d(x,192,1,1,pad,True,name=name+'b0')\n",
        "    branch1 = conv2d(x,128,1,1,pad,True,name=name+'b1_1')\n",
        "    branch1 = conv2d(branch1,160,[1,7],1,pad,True,name=name+'b1_2')\n",
        "    branch1 = conv2d(branch1,192,[7,1],1,pad,True,name=name+'b1_3')\n",
        "    branches = [branch0,branch1]\n",
        "    mixed = Concatenate(axis=3, name=name + '_mixed')(branches)\n",
        "    filt_exp_1x1 = conv2d(mixed,1152,1,1,pad,False,name=name+'filt_exp_1x1')\n",
        "    final_lay = Lambda(lambda inputs, scale: inputs[0] + inputs[1] * scale,\n",
        "                      output_shape=backend.int_shape(x)[1:],\n",
        "                      arguments={'scale': scale},\n",
        "                      name=name+'act_scaling')([x, filt_exp_1x1])\n",
        "    return final_lay"
      ],
      "execution_count": null,
      "outputs": []
    },
    {
      "cell_type": "markdown",
      "metadata": {
        "id": "aJRaQBQpT2-X"
      },
      "source": [
        "##Inception ResNet C block "
      ]
    },
    {
      "cell_type": "code",
      "metadata": {
        "id": "YC0DMFNkT53S"
      },
      "source": [
        "def incresC(x,scale,name=None):\n",
        "    pad = 'same'\n",
        "    branch0 = conv2d(x,192,1,1,pad,True,name=name+'b0')\n",
        "    branch1 = conv2d(x,192,1,1,pad,True,name=name+'b1_1')\n",
        "    branch1 = conv2d(branch1,224,[1,3],1,pad,True,name=name+'b1_2')\n",
        "    branch1 = conv2d(branch1,256,[3,1],1,pad,True,name=name+'b1_3')\n",
        "    branches = [branch0,branch1]\n",
        "    mixed = Concatenate(axis=3, name=name + '_mixed')(branches)\n",
        "    filt_exp_1x1 = conv2d(mixed,2048,1,1,pad,False,name=name+'fin1x1')\n",
        "    final_lay = Lambda(lambda inputs, scale: inputs[0] + inputs[1] * scale,\n",
        "                      output_shape=backend.int_shape(x)[1:],\n",
        "                      arguments={'scale': scale},\n",
        "                      name=name+'act_saling')([x, filt_exp_1x1])\n",
        "    return final_lay"
      ],
      "execution_count": null,
      "outputs": []
    },
    {
      "cell_type": "markdown",
      "metadata": {
        "id": "5nVaNyHPUBKP"
      },
      "source": [
        "##Stem block"
      ]
    },
    {
      "cell_type": "code",
      "metadata": {
        "id": "m6KN1tdzUAMX"
      },
      "source": [
        "img_input = Input(shape=(512,512,1))\n",
        "\n",
        "x = conv2d(img_input,32,3,2,'valid',True,name='conv1')\n",
        "x = conv2d(x,32,3,1,'valid',True,name='conv2')\n",
        "x = conv2d(x,64,3,1,'valid',True,name='conv3')\n",
        "\n",
        "x_11 = MaxPooling2D(3,strides=2,padding='valid',name='stem_br_11'+'_maxpool_1')(x)\n",
        "x_12 = conv2d(x,96,3,2,'valid',True,name='stem_br_12')\n",
        "\n",
        "x = Concatenate(axis=3, name = 'stem_concat_1')([x_11,x_12])\n",
        "\n",
        "x_21 = conv2d(x,64,1,1,'same',True,name='stem_br_211')\n",
        "x_21 = conv2d(x_21,64,[1,7],1,'same',True,name='stem_br_212')\n",
        "x_21 = conv2d(x_21,64,[7,1],1,'same',True,name='stem_br_213')\n",
        "x_21 = conv2d(x_21,96,3,1,'valid',True,name='stem_br_214')\n",
        "\n",
        "x_22 = conv2d(x,64,1,1,'same',True,name='stem_br_221')\n",
        "x_22 = conv2d(x_22,96,3,1,'valid',True,name='stem_br_222')\n",
        "\n",
        "x = Concatenate(axis=3, name = 'stem_concat_2')([x_21,x_22])\n",
        "\n",
        "x_31 = conv2d(x,192,3,1,'valid',True,name='stem_br_31')\n",
        "x_32 = MaxPooling2D(3,strides=1,padding='valid',name='stem_br_32'+'_maxpool_2')(x)\n",
        "x = Concatenate(axis=3, name = 'stem_concat_3')([x_31,x_32])"
      ],
      "execution_count": null,
      "outputs": []
    },
    {
      "cell_type": "markdown",
      "metadata": {
        "id": "4iBXsenfUMTA"
      },
      "source": [
        "##Inception-ResNet Network"
      ]
    },
    {
      "cell_type": "code",
      "metadata": {
        "id": "pqmT6iUYUKmJ"
      },
      "source": [
        "#Inception-ResNet-A modules\n",
        "x = incresA(x,0.15,name='incresA_1')\n",
        "x = incresA(x,0.15,name='incresA_2')\n",
        "x = incresA(x,0.15,name='incresA_3')\n",
        "x = incresA(x,0.15,name='incresA_4')\n",
        "\n",
        "#35 × 35 to 17 × 17 reduction module.\n",
        "x_red_11 = MaxPooling2D(3,strides=2,padding='valid',name='red_maxpool_1')(x)\n",
        "\n",
        "x_red_12 = conv2d(x,384,3,2,'valid',True,name='x_red1_c1')\n",
        "\n",
        "x_red_13 = conv2d(x,256,1,1,'same',True,name='x_red1_c2_1')\n",
        "x_red_13 = conv2d(x_red_13,256,3,1,'same',True,name='x_red1_c2_2')\n",
        "x_red_13 = conv2d(x_red_13,384,3,2,'valid',True,name='x_red1_c2_3')\n",
        "\n",
        "x = Concatenate(axis=3, name='red_concat_1')([x_red_11,x_red_12,x_red_13])\n",
        "\n",
        "#Inception-ResNet-B modules\n",
        "x = incresB(x,0.1,name='incresB_1')\n",
        "x = incresB(x,0.1,name='incresB_2')\n",
        "x = incresB(x,0.1,name='incresB_3')\n",
        "x = incresB(x,0.1,name='incresB_4')\n",
        "x = incresB(x,0.1,name='incresB_5')\n",
        "x = incresB(x,0.1,name='incresB_6')\n",
        "x = incresB(x,0.1,name='incresB_7')\n",
        "\n",
        "#17 × 17 to 8 × 8 reduction module.\n",
        "x_red_21 = MaxPooling2D(3,strides=2,padding='valid',name='red_maxpool_2')(x)\n",
        "\n",
        "x_red_22 = conv2d(x,256,1,1,'same',True,name='x_red2_c11')\n",
        "x_red_22 = conv2d(x_red_22,384,3,2,'valid',True,name='x_red2_c12')\n",
        "\n",
        "x_red_23 = conv2d(x,256,1,1,'same',True,name='x_red2_c21')\n",
        "x_red_23 = conv2d(x_red_23,256,3,2,'valid',True,name='x_red2_c22')\n",
        "\n",
        "x_red_24 = conv2d(x,256,1,1,'same',True,name='x_red2_c31')\n",
        "x_red_24 = conv2d(x_red_24,256,3,1,'same',True,name='x_red2_c32')\n",
        "x_red_24 = conv2d(x_red_24,256,3,2,'valid',True,name='x_red2_c33')\n",
        "\n",
        "x = Concatenate(axis=3, name='red_concat_2')([x_red_21,x_red_22,x_red_23,x_red_24])\n",
        "\n",
        "#Inception-ResNet-C modules\n",
        "x = incresC(x,0.2,name='incresC_1')\n",
        "x = incresC(x,0.2,name='incresC_2')\n",
        "x = incresC(x,0.2,name='incresC_3')\n",
        "\n",
        "#TOP\n",
        "x = GlobalAveragePooling2D(data_format='channels_last')(x)\n",
        "x = Dropout(0.6)(x)\n",
        "x = Dense(units=2, activation='softmax')(x)"
      ],
      "execution_count": null,
      "outputs": []
    },
    {
      "cell_type": "markdown",
      "metadata": {
        "id": "0b2NcjcjBLbg"
      },
      "source": [
        "##Make the model and get the summary of the model\n",
        "\n",
        "\n"
      ]
    },
    {
      "cell_type": "code",
      "metadata": {
        "colab": {
          "base_uri": "https://localhost:8080/"
        },
        "id": "8jgegOCfjApg",
        "outputId": "10e61193-9e56-431c-b1d5-85e28d0bec7b"
      },
      "source": [
        "model = Model(img_input,x,name='inception_resnet_v2')\n",
        "model.summary()"
      ],
      "execution_count": null,
      "outputs": [
        {
          "output_type": "stream",
          "name": "stdout",
          "text": [
            "Model: \"inception_resnet_v2\"\n",
            "__________________________________________________________________________________________________\n",
            "Layer (type)                    Output Shape         Param #     Connected to                     \n",
            "==================================================================================================\n",
            "input_1 (InputLayer)            [(None, 512, 512, 1) 0                                            \n",
            "__________________________________________________________________________________________________\n",
            "conv1conv2d (Conv2D)            (None, 255, 255, 32) 288         input_1[0][0]                    \n",
            "__________________________________________________________________________________________________\n",
            "conv1conv2dbn (BatchNormalizati (None, 255, 255, 32) 96          conv1conv2d[0][0]                \n",
            "__________________________________________________________________________________________________\n",
            "conv1conv2dact (Activation)     (None, 255, 255, 32) 0           conv1conv2dbn[0][0]              \n",
            "__________________________________________________________________________________________________\n",
            "conv2conv2d (Conv2D)            (None, 253, 253, 32) 9216        conv1conv2dact[0][0]             \n",
            "__________________________________________________________________________________________________\n",
            "conv2conv2dbn (BatchNormalizati (None, 253, 253, 32) 96          conv2conv2d[0][0]                \n",
            "__________________________________________________________________________________________________\n",
            "conv2conv2dact (Activation)     (None, 253, 253, 32) 0           conv2conv2dbn[0][0]              \n",
            "__________________________________________________________________________________________________\n",
            "conv3conv2d (Conv2D)            (None, 251, 251, 64) 18432       conv2conv2dact[0][0]             \n",
            "__________________________________________________________________________________________________\n",
            "conv3conv2dbn (BatchNormalizati (None, 251, 251, 64) 192         conv3conv2d[0][0]                \n",
            "__________________________________________________________________________________________________\n",
            "conv3conv2dact (Activation)     (None, 251, 251, 64) 0           conv3conv2dbn[0][0]              \n",
            "__________________________________________________________________________________________________\n",
            "stem_br_12conv2d (Conv2D)       (None, 125, 125, 96) 55296       conv3conv2dact[0][0]             \n",
            "__________________________________________________________________________________________________\n",
            "stem_br_12conv2dbn (BatchNormal (None, 125, 125, 96) 288         stem_br_12conv2d[0][0]           \n",
            "__________________________________________________________________________________________________\n",
            "stem_br_11_maxpool_1 (MaxPoolin (None, 125, 125, 64) 0           conv3conv2dact[0][0]             \n",
            "__________________________________________________________________________________________________\n",
            "stem_br_12conv2dact (Activation (None, 125, 125, 96) 0           stem_br_12conv2dbn[0][0]         \n",
            "__________________________________________________________________________________________________\n",
            "stem_concat_1 (Concatenate)     (None, 125, 125, 160 0           stem_br_11_maxpool_1[0][0]       \n",
            "                                                                 stem_br_12conv2dact[0][0]        \n",
            "__________________________________________________________________________________________________\n",
            "stem_br_211conv2d (Conv2D)      (None, 125, 125, 64) 10240       stem_concat_1[0][0]              \n",
            "__________________________________________________________________________________________________\n",
            "stem_br_211conv2dbn (BatchNorma (None, 125, 125, 64) 192         stem_br_211conv2d[0][0]          \n",
            "__________________________________________________________________________________________________\n",
            "stem_br_211conv2dact (Activatio (None, 125, 125, 64) 0           stem_br_211conv2dbn[0][0]        \n",
            "__________________________________________________________________________________________________\n",
            "stem_br_212conv2d (Conv2D)      (None, 125, 125, 64) 28672       stem_br_211conv2dact[0][0]       \n",
            "__________________________________________________________________________________________________\n",
            "stem_br_212conv2dbn (BatchNorma (None, 125, 125, 64) 192         stem_br_212conv2d[0][0]          \n",
            "__________________________________________________________________________________________________\n",
            "stem_br_212conv2dact (Activatio (None, 125, 125, 64) 0           stem_br_212conv2dbn[0][0]        \n",
            "__________________________________________________________________________________________________\n",
            "stem_br_213conv2d (Conv2D)      (None, 125, 125, 64) 28672       stem_br_212conv2dact[0][0]       \n",
            "__________________________________________________________________________________________________\n",
            "stem_br_221conv2d (Conv2D)      (None, 125, 125, 64) 10240       stem_concat_1[0][0]              \n",
            "__________________________________________________________________________________________________\n",
            "stem_br_213conv2dbn (BatchNorma (None, 125, 125, 64) 192         stem_br_213conv2d[0][0]          \n",
            "__________________________________________________________________________________________________\n",
            "stem_br_221conv2dbn (BatchNorma (None, 125, 125, 64) 192         stem_br_221conv2d[0][0]          \n",
            "__________________________________________________________________________________________________\n",
            "stem_br_213conv2dact (Activatio (None, 125, 125, 64) 0           stem_br_213conv2dbn[0][0]        \n",
            "__________________________________________________________________________________________________\n",
            "stem_br_221conv2dact (Activatio (None, 125, 125, 64) 0           stem_br_221conv2dbn[0][0]        \n",
            "__________________________________________________________________________________________________\n",
            "stem_br_214conv2d (Conv2D)      (None, 123, 123, 96) 55296       stem_br_213conv2dact[0][0]       \n",
            "__________________________________________________________________________________________________\n",
            "stem_br_222conv2d (Conv2D)      (None, 123, 123, 96) 55296       stem_br_221conv2dact[0][0]       \n",
            "__________________________________________________________________________________________________\n",
            "stem_br_214conv2dbn (BatchNorma (None, 123, 123, 96) 288         stem_br_214conv2d[0][0]          \n",
            "__________________________________________________________________________________________________\n",
            "stem_br_222conv2dbn (BatchNorma (None, 123, 123, 96) 288         stem_br_222conv2d[0][0]          \n",
            "__________________________________________________________________________________________________\n",
            "stem_br_214conv2dact (Activatio (None, 123, 123, 96) 0           stem_br_214conv2dbn[0][0]        \n",
            "__________________________________________________________________________________________________\n",
            "stem_br_222conv2dact (Activatio (None, 123, 123, 96) 0           stem_br_222conv2dbn[0][0]        \n",
            "__________________________________________________________________________________________________\n",
            "stem_concat_2 (Concatenate)     (None, 123, 123, 192 0           stem_br_214conv2dact[0][0]       \n",
            "                                                                 stem_br_222conv2dact[0][0]       \n",
            "__________________________________________________________________________________________________\n",
            "stem_br_31conv2d (Conv2D)       (None, 121, 121, 192 331776      stem_concat_2[0][0]              \n",
            "__________________________________________________________________________________________________\n",
            "stem_br_31conv2dbn (BatchNormal (None, 121, 121, 192 576         stem_br_31conv2d[0][0]           \n",
            "__________________________________________________________________________________________________\n",
            "stem_br_31conv2dact (Activation (None, 121, 121, 192 0           stem_br_31conv2dbn[0][0]         \n",
            "__________________________________________________________________________________________________\n",
            "stem_br_32_maxpool_2 (MaxPoolin (None, 121, 121, 192 0           stem_concat_2[0][0]              \n",
            "__________________________________________________________________________________________________\n",
            "stem_concat_3 (Concatenate)     (None, 121, 121, 384 0           stem_br_31conv2dact[0][0]        \n",
            "                                                                 stem_br_32_maxpool_2[0][0]       \n",
            "__________________________________________________________________________________________________\n",
            "incresA_1b2_1conv2d (Conv2D)    (None, 121, 121, 32) 12288       stem_concat_3[0][0]              \n",
            "__________________________________________________________________________________________________\n",
            "incresA_1b2_1conv2dbn (BatchNor (None, 121, 121, 32) 96          incresA_1b2_1conv2d[0][0]        \n",
            "__________________________________________________________________________________________________\n",
            "incresA_1b2_1conv2dact (Activat (None, 121, 121, 32) 0           incresA_1b2_1conv2dbn[0][0]      \n",
            "__________________________________________________________________________________________________\n",
            "incresA_1b1_1conv2d (Conv2D)    (None, 121, 121, 32) 12288       stem_concat_3[0][0]              \n",
            "__________________________________________________________________________________________________\n",
            "incresA_1b2_2conv2d (Conv2D)    (None, 121, 121, 48) 13824       incresA_1b2_1conv2dact[0][0]     \n",
            "__________________________________________________________________________________________________\n",
            "incresA_1b1_1conv2dbn (BatchNor (None, 121, 121, 32) 96          incresA_1b1_1conv2d[0][0]        \n",
            "__________________________________________________________________________________________________\n",
            "incresA_1b2_2conv2dbn (BatchNor (None, 121, 121, 48) 144         incresA_1b2_2conv2d[0][0]        \n",
            "__________________________________________________________________________________________________\n",
            "incresA_1b1_1conv2dact (Activat (None, 121, 121, 32) 0           incresA_1b1_1conv2dbn[0][0]      \n",
            "__________________________________________________________________________________________________\n",
            "incresA_1b2_2conv2dact (Activat (None, 121, 121, 48) 0           incresA_1b2_2conv2dbn[0][0]      \n",
            "__________________________________________________________________________________________________\n",
            "incresA_1b0conv2d (Conv2D)      (None, 121, 121, 32) 12288       stem_concat_3[0][0]              \n",
            "__________________________________________________________________________________________________\n",
            "incresA_1b1_2conv2d (Conv2D)    (None, 121, 121, 32) 9216        incresA_1b1_1conv2dact[0][0]     \n",
            "__________________________________________________________________________________________________\n",
            "incresA_1b2_3conv2d (Conv2D)    (None, 121, 121, 64) 27648       incresA_1b2_2conv2dact[0][0]     \n",
            "__________________________________________________________________________________________________\n",
            "incresA_1b0conv2dbn (BatchNorma (None, 121, 121, 32) 96          incresA_1b0conv2d[0][0]          \n",
            "__________________________________________________________________________________________________\n",
            "incresA_1b1_2conv2dbn (BatchNor (None, 121, 121, 32) 96          incresA_1b1_2conv2d[0][0]        \n",
            "__________________________________________________________________________________________________\n",
            "incresA_1b2_3conv2dbn (BatchNor (None, 121, 121, 64) 192         incresA_1b2_3conv2d[0][0]        \n",
            "__________________________________________________________________________________________________\n",
            "incresA_1b0conv2dact (Activatio (None, 121, 121, 32) 0           incresA_1b0conv2dbn[0][0]        \n",
            "__________________________________________________________________________________________________\n",
            "incresA_1b1_2conv2dact (Activat (None, 121, 121, 32) 0           incresA_1b1_2conv2dbn[0][0]      \n",
            "__________________________________________________________________________________________________\n",
            "incresA_1b2_3conv2dact (Activat (None, 121, 121, 64) 0           incresA_1b2_3conv2dbn[0][0]      \n",
            "__________________________________________________________________________________________________\n",
            "incresA_1_concat (Concatenate)  (None, 121, 121, 128 0           incresA_1b0conv2dact[0][0]       \n",
            "                                                                 incresA_1b1_2conv2dact[0][0]     \n",
            "                                                                 incresA_1b2_3conv2dact[0][0]     \n",
            "__________________________________________________________________________________________________\n",
            "incresA_1filt_exp_1x1conv2d (Co (None, 121, 121, 384 49152       incresA_1_concat[0][0]           \n",
            "__________________________________________________________________________________________________\n",
            "incresA_1filt_exp_1x1conv2dbn ( (None, 121, 121, 384 1152        incresA_1filt_exp_1x1conv2d[0][0]\n",
            "__________________________________________________________________________________________________\n",
            "incresA_1act_scaling (Lambda)   (None, 121, 121, 384 0           stem_concat_3[0][0]              \n",
            "                                                                 incresA_1filt_exp_1x1conv2dbn[0][\n",
            "__________________________________________________________________________________________________\n",
            "incresA_2b2_1conv2d (Conv2D)    (None, 121, 121, 32) 12288       incresA_1act_scaling[0][0]       \n",
            "__________________________________________________________________________________________________\n",
            "incresA_2b2_1conv2dbn (BatchNor (None, 121, 121, 32) 96          incresA_2b2_1conv2d[0][0]        \n",
            "__________________________________________________________________________________________________\n",
            "incresA_2b2_1conv2dact (Activat (None, 121, 121, 32) 0           incresA_2b2_1conv2dbn[0][0]      \n",
            "__________________________________________________________________________________________________\n",
            "incresA_2b1_1conv2d (Conv2D)    (None, 121, 121, 32) 12288       incresA_1act_scaling[0][0]       \n",
            "__________________________________________________________________________________________________\n",
            "incresA_2b2_2conv2d (Conv2D)    (None, 121, 121, 48) 13824       incresA_2b2_1conv2dact[0][0]     \n",
            "__________________________________________________________________________________________________\n",
            "incresA_2b1_1conv2dbn (BatchNor (None, 121, 121, 32) 96          incresA_2b1_1conv2d[0][0]        \n",
            "__________________________________________________________________________________________________\n",
            "incresA_2b2_2conv2dbn (BatchNor (None, 121, 121, 48) 144         incresA_2b2_2conv2d[0][0]        \n",
            "__________________________________________________________________________________________________\n",
            "incresA_2b1_1conv2dact (Activat (None, 121, 121, 32) 0           incresA_2b1_1conv2dbn[0][0]      \n",
            "__________________________________________________________________________________________________\n",
            "incresA_2b2_2conv2dact (Activat (None, 121, 121, 48) 0           incresA_2b2_2conv2dbn[0][0]      \n",
            "__________________________________________________________________________________________________\n",
            "incresA_2b0conv2d (Conv2D)      (None, 121, 121, 32) 12288       incresA_1act_scaling[0][0]       \n",
            "__________________________________________________________________________________________________\n",
            "incresA_2b1_2conv2d (Conv2D)    (None, 121, 121, 32) 9216        incresA_2b1_1conv2dact[0][0]     \n",
            "__________________________________________________________________________________________________\n",
            "incresA_2b2_3conv2d (Conv2D)    (None, 121, 121, 64) 27648       incresA_2b2_2conv2dact[0][0]     \n",
            "__________________________________________________________________________________________________\n",
            "incresA_2b0conv2dbn (BatchNorma (None, 121, 121, 32) 96          incresA_2b0conv2d[0][0]          \n",
            "__________________________________________________________________________________________________\n",
            "incresA_2b1_2conv2dbn (BatchNor (None, 121, 121, 32) 96          incresA_2b1_2conv2d[0][0]        \n",
            "__________________________________________________________________________________________________\n",
            "incresA_2b2_3conv2dbn (BatchNor (None, 121, 121, 64) 192         incresA_2b2_3conv2d[0][0]        \n",
            "__________________________________________________________________________________________________\n",
            "incresA_2b0conv2dact (Activatio (None, 121, 121, 32) 0           incresA_2b0conv2dbn[0][0]        \n",
            "__________________________________________________________________________________________________\n",
            "incresA_2b1_2conv2dact (Activat (None, 121, 121, 32) 0           incresA_2b1_2conv2dbn[0][0]      \n",
            "__________________________________________________________________________________________________\n",
            "incresA_2b2_3conv2dact (Activat (None, 121, 121, 64) 0           incresA_2b2_3conv2dbn[0][0]      \n",
            "__________________________________________________________________________________________________\n",
            "incresA_2_concat (Concatenate)  (None, 121, 121, 128 0           incresA_2b0conv2dact[0][0]       \n",
            "                                                                 incresA_2b1_2conv2dact[0][0]     \n",
            "                                                                 incresA_2b2_3conv2dact[0][0]     \n",
            "__________________________________________________________________________________________________\n",
            "incresA_2filt_exp_1x1conv2d (Co (None, 121, 121, 384 49152       incresA_2_concat[0][0]           \n",
            "__________________________________________________________________________________________________\n",
            "incresA_2filt_exp_1x1conv2dbn ( (None, 121, 121, 384 1152        incresA_2filt_exp_1x1conv2d[0][0]\n",
            "__________________________________________________________________________________________________\n",
            "incresA_2act_scaling (Lambda)   (None, 121, 121, 384 0           incresA_1act_scaling[0][0]       \n",
            "                                                                 incresA_2filt_exp_1x1conv2dbn[0][\n",
            "__________________________________________________________________________________________________\n",
            "incresA_3b2_1conv2d (Conv2D)    (None, 121, 121, 32) 12288       incresA_2act_scaling[0][0]       \n",
            "__________________________________________________________________________________________________\n",
            "incresA_3b2_1conv2dbn (BatchNor (None, 121, 121, 32) 96          incresA_3b2_1conv2d[0][0]        \n",
            "__________________________________________________________________________________________________\n",
            "incresA_3b2_1conv2dact (Activat (None, 121, 121, 32) 0           incresA_3b2_1conv2dbn[0][0]      \n",
            "__________________________________________________________________________________________________\n",
            "incresA_3b1_1conv2d (Conv2D)    (None, 121, 121, 32) 12288       incresA_2act_scaling[0][0]       \n",
            "__________________________________________________________________________________________________\n",
            "incresA_3b2_2conv2d (Conv2D)    (None, 121, 121, 48) 13824       incresA_3b2_1conv2dact[0][0]     \n",
            "__________________________________________________________________________________________________\n",
            "incresA_3b1_1conv2dbn (BatchNor (None, 121, 121, 32) 96          incresA_3b1_1conv2d[0][0]        \n",
            "__________________________________________________________________________________________________\n",
            "incresA_3b2_2conv2dbn (BatchNor (None, 121, 121, 48) 144         incresA_3b2_2conv2d[0][0]        \n",
            "__________________________________________________________________________________________________\n",
            "incresA_3b1_1conv2dact (Activat (None, 121, 121, 32) 0           incresA_3b1_1conv2dbn[0][0]      \n",
            "__________________________________________________________________________________________________\n",
            "incresA_3b2_2conv2dact (Activat (None, 121, 121, 48) 0           incresA_3b2_2conv2dbn[0][0]      \n",
            "__________________________________________________________________________________________________\n",
            "incresA_3b0conv2d (Conv2D)      (None, 121, 121, 32) 12288       incresA_2act_scaling[0][0]       \n",
            "__________________________________________________________________________________________________\n",
            "incresA_3b1_2conv2d (Conv2D)    (None, 121, 121, 32) 9216        incresA_3b1_1conv2dact[0][0]     \n",
            "__________________________________________________________________________________________________\n",
            "incresA_3b2_3conv2d (Conv2D)    (None, 121, 121, 64) 27648       incresA_3b2_2conv2dact[0][0]     \n",
            "__________________________________________________________________________________________________\n",
            "incresA_3b0conv2dbn (BatchNorma (None, 121, 121, 32) 96          incresA_3b0conv2d[0][0]          \n",
            "__________________________________________________________________________________________________\n",
            "incresA_3b1_2conv2dbn (BatchNor (None, 121, 121, 32) 96          incresA_3b1_2conv2d[0][0]        \n",
            "__________________________________________________________________________________________________\n",
            "incresA_3b2_3conv2dbn (BatchNor (None, 121, 121, 64) 192         incresA_3b2_3conv2d[0][0]        \n",
            "__________________________________________________________________________________________________\n",
            "incresA_3b0conv2dact (Activatio (None, 121, 121, 32) 0           incresA_3b0conv2dbn[0][0]        \n",
            "__________________________________________________________________________________________________\n",
            "incresA_3b1_2conv2dact (Activat (None, 121, 121, 32) 0           incresA_3b1_2conv2dbn[0][0]      \n",
            "__________________________________________________________________________________________________\n",
            "incresA_3b2_3conv2dact (Activat (None, 121, 121, 64) 0           incresA_3b2_3conv2dbn[0][0]      \n",
            "__________________________________________________________________________________________________\n",
            "incresA_3_concat (Concatenate)  (None, 121, 121, 128 0           incresA_3b0conv2dact[0][0]       \n",
            "                                                                 incresA_3b1_2conv2dact[0][0]     \n",
            "                                                                 incresA_3b2_3conv2dact[0][0]     \n",
            "__________________________________________________________________________________________________\n",
            "incresA_3filt_exp_1x1conv2d (Co (None, 121, 121, 384 49152       incresA_3_concat[0][0]           \n",
            "__________________________________________________________________________________________________\n",
            "incresA_3filt_exp_1x1conv2dbn ( (None, 121, 121, 384 1152        incresA_3filt_exp_1x1conv2d[0][0]\n",
            "__________________________________________________________________________________________________\n",
            "incresA_3act_scaling (Lambda)   (None, 121, 121, 384 0           incresA_2act_scaling[0][0]       \n",
            "                                                                 incresA_3filt_exp_1x1conv2dbn[0][\n",
            "__________________________________________________________________________________________________\n",
            "incresA_4b2_1conv2d (Conv2D)    (None, 121, 121, 32) 12288       incresA_3act_scaling[0][0]       \n",
            "__________________________________________________________________________________________________\n",
            "incresA_4b2_1conv2dbn (BatchNor (None, 121, 121, 32) 96          incresA_4b2_1conv2d[0][0]        \n",
            "__________________________________________________________________________________________________\n",
            "incresA_4b2_1conv2dact (Activat (None, 121, 121, 32) 0           incresA_4b2_1conv2dbn[0][0]      \n",
            "__________________________________________________________________________________________________\n",
            "incresA_4b1_1conv2d (Conv2D)    (None, 121, 121, 32) 12288       incresA_3act_scaling[0][0]       \n",
            "__________________________________________________________________________________________________\n",
            "incresA_4b2_2conv2d (Conv2D)    (None, 121, 121, 48) 13824       incresA_4b2_1conv2dact[0][0]     \n",
            "__________________________________________________________________________________________________\n",
            "incresA_4b1_1conv2dbn (BatchNor (None, 121, 121, 32) 96          incresA_4b1_1conv2d[0][0]        \n",
            "__________________________________________________________________________________________________\n",
            "incresA_4b2_2conv2dbn (BatchNor (None, 121, 121, 48) 144         incresA_4b2_2conv2d[0][0]        \n",
            "__________________________________________________________________________________________________\n",
            "incresA_4b1_1conv2dact (Activat (None, 121, 121, 32) 0           incresA_4b1_1conv2dbn[0][0]      \n",
            "__________________________________________________________________________________________________\n",
            "incresA_4b2_2conv2dact (Activat (None, 121, 121, 48) 0           incresA_4b2_2conv2dbn[0][0]      \n",
            "__________________________________________________________________________________________________\n",
            "incresA_4b0conv2d (Conv2D)      (None, 121, 121, 32) 12288       incresA_3act_scaling[0][0]       \n",
            "__________________________________________________________________________________________________\n",
            "incresA_4b1_2conv2d (Conv2D)    (None, 121, 121, 32) 9216        incresA_4b1_1conv2dact[0][0]     \n",
            "__________________________________________________________________________________________________\n",
            "incresA_4b2_3conv2d (Conv2D)    (None, 121, 121, 64) 27648       incresA_4b2_2conv2dact[0][0]     \n",
            "__________________________________________________________________________________________________\n",
            "incresA_4b0conv2dbn (BatchNorma (None, 121, 121, 32) 96          incresA_4b0conv2d[0][0]          \n",
            "__________________________________________________________________________________________________\n",
            "incresA_4b1_2conv2dbn (BatchNor (None, 121, 121, 32) 96          incresA_4b1_2conv2d[0][0]        \n",
            "__________________________________________________________________________________________________\n",
            "incresA_4b2_3conv2dbn (BatchNor (None, 121, 121, 64) 192         incresA_4b2_3conv2d[0][0]        \n",
            "__________________________________________________________________________________________________\n",
            "incresA_4b0conv2dact (Activatio (None, 121, 121, 32) 0           incresA_4b0conv2dbn[0][0]        \n",
            "__________________________________________________________________________________________________\n",
            "incresA_4b1_2conv2dact (Activat (None, 121, 121, 32) 0           incresA_4b1_2conv2dbn[0][0]      \n",
            "__________________________________________________________________________________________________\n",
            "incresA_4b2_3conv2dact (Activat (None, 121, 121, 64) 0           incresA_4b2_3conv2dbn[0][0]      \n",
            "__________________________________________________________________________________________________\n",
            "incresA_4_concat (Concatenate)  (None, 121, 121, 128 0           incresA_4b0conv2dact[0][0]       \n",
            "                                                                 incresA_4b1_2conv2dact[0][0]     \n",
            "                                                                 incresA_4b2_3conv2dact[0][0]     \n",
            "__________________________________________________________________________________________________\n",
            "incresA_4filt_exp_1x1conv2d (Co (None, 121, 121, 384 49152       incresA_4_concat[0][0]           \n",
            "__________________________________________________________________________________________________\n",
            "incresA_4filt_exp_1x1conv2dbn ( (None, 121, 121, 384 1152        incresA_4filt_exp_1x1conv2d[0][0]\n",
            "__________________________________________________________________________________________________\n",
            "incresA_4act_scaling (Lambda)   (None, 121, 121, 384 0           incresA_3act_scaling[0][0]       \n",
            "                                                                 incresA_4filt_exp_1x1conv2dbn[0][\n",
            "__________________________________________________________________________________________________\n",
            "x_red1_c2_1conv2d (Conv2D)      (None, 121, 121, 256 98304       incresA_4act_scaling[0][0]       \n",
            "__________________________________________________________________________________________________\n",
            "x_red1_c2_1conv2dbn (BatchNorma (None, 121, 121, 256 768         x_red1_c2_1conv2d[0][0]          \n",
            "__________________________________________________________________________________________________\n",
            "x_red1_c2_1conv2dact (Activatio (None, 121, 121, 256 0           x_red1_c2_1conv2dbn[0][0]        \n",
            "__________________________________________________________________________________________________\n",
            "x_red1_c2_2conv2d (Conv2D)      (None, 121, 121, 256 589824      x_red1_c2_1conv2dact[0][0]       \n",
            "__________________________________________________________________________________________________\n",
            "x_red1_c2_2conv2dbn (BatchNorma (None, 121, 121, 256 768         x_red1_c2_2conv2d[0][0]          \n",
            "__________________________________________________________________________________________________\n",
            "x_red1_c2_2conv2dact (Activatio (None, 121, 121, 256 0           x_red1_c2_2conv2dbn[0][0]        \n",
            "__________________________________________________________________________________________________\n",
            "x_red1_c1conv2d (Conv2D)        (None, 60, 60, 384)  1327104     incresA_4act_scaling[0][0]       \n",
            "__________________________________________________________________________________________________\n",
            "x_red1_c2_3conv2d (Conv2D)      (None, 60, 60, 384)  884736      x_red1_c2_2conv2dact[0][0]       \n",
            "__________________________________________________________________________________________________\n",
            "x_red1_c1conv2dbn (BatchNormali (None, 60, 60, 384)  1152        x_red1_c1conv2d[0][0]            \n",
            "__________________________________________________________________________________________________\n",
            "x_red1_c2_3conv2dbn (BatchNorma (None, 60, 60, 384)  1152        x_red1_c2_3conv2d[0][0]          \n",
            "__________________________________________________________________________________________________\n",
            "red_maxpool_1 (MaxPooling2D)    (None, 60, 60, 384)  0           incresA_4act_scaling[0][0]       \n",
            "__________________________________________________________________________________________________\n",
            "x_red1_c1conv2dact (Activation) (None, 60, 60, 384)  0           x_red1_c1conv2dbn[0][0]          \n",
            "__________________________________________________________________________________________________\n",
            "x_red1_c2_3conv2dact (Activatio (None, 60, 60, 384)  0           x_red1_c2_3conv2dbn[0][0]        \n",
            "__________________________________________________________________________________________________\n",
            "red_concat_1 (Concatenate)      (None, 60, 60, 1152) 0           red_maxpool_1[0][0]              \n",
            "                                                                 x_red1_c1conv2dact[0][0]         \n",
            "                                                                 x_red1_c2_3conv2dact[0][0]       \n",
            "__________________________________________________________________________________________________\n",
            "incresB_1b1_1conv2d (Conv2D)    (None, 60, 60, 128)  147456      red_concat_1[0][0]               \n",
            "__________________________________________________________________________________________________\n",
            "incresB_1b1_1conv2dbn (BatchNor (None, 60, 60, 128)  384         incresB_1b1_1conv2d[0][0]        \n",
            "__________________________________________________________________________________________________\n",
            "incresB_1b1_1conv2dact (Activat (None, 60, 60, 128)  0           incresB_1b1_1conv2dbn[0][0]      \n",
            "__________________________________________________________________________________________________\n",
            "incresB_1b1_2conv2d (Conv2D)    (None, 60, 60, 160)  143360      incresB_1b1_1conv2dact[0][0]     \n",
            "__________________________________________________________________________________________________\n",
            "incresB_1b1_2conv2dbn (BatchNor (None, 60, 60, 160)  480         incresB_1b1_2conv2d[0][0]        \n",
            "__________________________________________________________________________________________________\n",
            "incresB_1b1_2conv2dact (Activat (None, 60, 60, 160)  0           incresB_1b1_2conv2dbn[0][0]      \n",
            "__________________________________________________________________________________________________\n",
            "incresB_1b0conv2d (Conv2D)      (None, 60, 60, 192)  221184      red_concat_1[0][0]               \n",
            "__________________________________________________________________________________________________\n",
            "incresB_1b1_3conv2d (Conv2D)    (None, 60, 60, 192)  215040      incresB_1b1_2conv2dact[0][0]     \n",
            "__________________________________________________________________________________________________\n",
            "incresB_1b0conv2dbn (BatchNorma (None, 60, 60, 192)  576         incresB_1b0conv2d[0][0]          \n",
            "__________________________________________________________________________________________________\n",
            "incresB_1b1_3conv2dbn (BatchNor (None, 60, 60, 192)  576         incresB_1b1_3conv2d[0][0]        \n",
            "__________________________________________________________________________________________________\n",
            "incresB_1b0conv2dact (Activatio (None, 60, 60, 192)  0           incresB_1b0conv2dbn[0][0]        \n",
            "__________________________________________________________________________________________________\n",
            "incresB_1b1_3conv2dact (Activat (None, 60, 60, 192)  0           incresB_1b1_3conv2dbn[0][0]      \n",
            "__________________________________________________________________________________________________\n",
            "incresB_1_mixed (Concatenate)   (None, 60, 60, 384)  0           incresB_1b0conv2dact[0][0]       \n",
            "                                                                 incresB_1b1_3conv2dact[0][0]     \n",
            "__________________________________________________________________________________________________\n",
            "incresB_1filt_exp_1x1conv2d (Co (None, 60, 60, 1152) 442368      incresB_1_mixed[0][0]            \n",
            "__________________________________________________________________________________________________\n",
            "incresB_1filt_exp_1x1conv2dbn ( (None, 60, 60, 1152) 3456        incresB_1filt_exp_1x1conv2d[0][0]\n",
            "__________________________________________________________________________________________________\n",
            "incresB_1act_scaling (Lambda)   (None, 60, 60, 1152) 0           red_concat_1[0][0]               \n",
            "                                                                 incresB_1filt_exp_1x1conv2dbn[0][\n",
            "__________________________________________________________________________________________________\n",
            "incresB_2b1_1conv2d (Conv2D)    (None, 60, 60, 128)  147456      incresB_1act_scaling[0][0]       \n",
            "__________________________________________________________________________________________________\n",
            "incresB_2b1_1conv2dbn (BatchNor (None, 60, 60, 128)  384         incresB_2b1_1conv2d[0][0]        \n",
            "__________________________________________________________________________________________________\n",
            "incresB_2b1_1conv2dact (Activat (None, 60, 60, 128)  0           incresB_2b1_1conv2dbn[0][0]      \n",
            "__________________________________________________________________________________________________\n",
            "incresB_2b1_2conv2d (Conv2D)    (None, 60, 60, 160)  143360      incresB_2b1_1conv2dact[0][0]     \n",
            "__________________________________________________________________________________________________\n",
            "incresB_2b1_2conv2dbn (BatchNor (None, 60, 60, 160)  480         incresB_2b1_2conv2d[0][0]        \n",
            "__________________________________________________________________________________________________\n",
            "incresB_2b1_2conv2dact (Activat (None, 60, 60, 160)  0           incresB_2b1_2conv2dbn[0][0]      \n",
            "__________________________________________________________________________________________________\n",
            "incresB_2b0conv2d (Conv2D)      (None, 60, 60, 192)  221184      incresB_1act_scaling[0][0]       \n",
            "__________________________________________________________________________________________________\n",
            "incresB_2b1_3conv2d (Conv2D)    (None, 60, 60, 192)  215040      incresB_2b1_2conv2dact[0][0]     \n",
            "__________________________________________________________________________________________________\n",
            "incresB_2b0conv2dbn (BatchNorma (None, 60, 60, 192)  576         incresB_2b0conv2d[0][0]          \n",
            "__________________________________________________________________________________________________\n",
            "incresB_2b1_3conv2dbn (BatchNor (None, 60, 60, 192)  576         incresB_2b1_3conv2d[0][0]        \n",
            "__________________________________________________________________________________________________\n",
            "incresB_2b0conv2dact (Activatio (None, 60, 60, 192)  0           incresB_2b0conv2dbn[0][0]        \n",
            "__________________________________________________________________________________________________\n",
            "incresB_2b1_3conv2dact (Activat (None, 60, 60, 192)  0           incresB_2b1_3conv2dbn[0][0]      \n",
            "__________________________________________________________________________________________________\n",
            "incresB_2_mixed (Concatenate)   (None, 60, 60, 384)  0           incresB_2b0conv2dact[0][0]       \n",
            "                                                                 incresB_2b1_3conv2dact[0][0]     \n",
            "__________________________________________________________________________________________________\n",
            "incresB_2filt_exp_1x1conv2d (Co (None, 60, 60, 1152) 442368      incresB_2_mixed[0][0]            \n",
            "__________________________________________________________________________________________________\n",
            "incresB_2filt_exp_1x1conv2dbn ( (None, 60, 60, 1152) 3456        incresB_2filt_exp_1x1conv2d[0][0]\n",
            "__________________________________________________________________________________________________\n",
            "incresB_2act_scaling (Lambda)   (None, 60, 60, 1152) 0           incresB_1act_scaling[0][0]       \n",
            "                                                                 incresB_2filt_exp_1x1conv2dbn[0][\n",
            "__________________________________________________________________________________________________\n",
            "incresB_3b1_1conv2d (Conv2D)    (None, 60, 60, 128)  147456      incresB_2act_scaling[0][0]       \n",
            "__________________________________________________________________________________________________\n",
            "incresB_3b1_1conv2dbn (BatchNor (None, 60, 60, 128)  384         incresB_3b1_1conv2d[0][0]        \n",
            "__________________________________________________________________________________________________\n",
            "incresB_3b1_1conv2dact (Activat (None, 60, 60, 128)  0           incresB_3b1_1conv2dbn[0][0]      \n",
            "__________________________________________________________________________________________________\n",
            "incresB_3b1_2conv2d (Conv2D)    (None, 60, 60, 160)  143360      incresB_3b1_1conv2dact[0][0]     \n",
            "__________________________________________________________________________________________________\n",
            "incresB_3b1_2conv2dbn (BatchNor (None, 60, 60, 160)  480         incresB_3b1_2conv2d[0][0]        \n",
            "__________________________________________________________________________________________________\n",
            "incresB_3b1_2conv2dact (Activat (None, 60, 60, 160)  0           incresB_3b1_2conv2dbn[0][0]      \n",
            "__________________________________________________________________________________________________\n",
            "incresB_3b0conv2d (Conv2D)      (None, 60, 60, 192)  221184      incresB_2act_scaling[0][0]       \n",
            "__________________________________________________________________________________________________\n",
            "incresB_3b1_3conv2d (Conv2D)    (None, 60, 60, 192)  215040      incresB_3b1_2conv2dact[0][0]     \n",
            "__________________________________________________________________________________________________\n",
            "incresB_3b0conv2dbn (BatchNorma (None, 60, 60, 192)  576         incresB_3b0conv2d[0][0]          \n",
            "__________________________________________________________________________________________________\n",
            "incresB_3b1_3conv2dbn (BatchNor (None, 60, 60, 192)  576         incresB_3b1_3conv2d[0][0]        \n",
            "__________________________________________________________________________________________________\n",
            "incresB_3b0conv2dact (Activatio (None, 60, 60, 192)  0           incresB_3b0conv2dbn[0][0]        \n",
            "__________________________________________________________________________________________________\n",
            "incresB_3b1_3conv2dact (Activat (None, 60, 60, 192)  0           incresB_3b1_3conv2dbn[0][0]      \n",
            "__________________________________________________________________________________________________\n",
            "incresB_3_mixed (Concatenate)   (None, 60, 60, 384)  0           incresB_3b0conv2dact[0][0]       \n",
            "                                                                 incresB_3b1_3conv2dact[0][0]     \n",
            "__________________________________________________________________________________________________\n",
            "incresB_3filt_exp_1x1conv2d (Co (None, 60, 60, 1152) 442368      incresB_3_mixed[0][0]            \n",
            "__________________________________________________________________________________________________\n",
            "incresB_3filt_exp_1x1conv2dbn ( (None, 60, 60, 1152) 3456        incresB_3filt_exp_1x1conv2d[0][0]\n",
            "__________________________________________________________________________________________________\n",
            "incresB_3act_scaling (Lambda)   (None, 60, 60, 1152) 0           incresB_2act_scaling[0][0]       \n",
            "                                                                 incresB_3filt_exp_1x1conv2dbn[0][\n",
            "__________________________________________________________________________________________________\n",
            "incresB_4b1_1conv2d (Conv2D)    (None, 60, 60, 128)  147456      incresB_3act_scaling[0][0]       \n",
            "__________________________________________________________________________________________________\n",
            "incresB_4b1_1conv2dbn (BatchNor (None, 60, 60, 128)  384         incresB_4b1_1conv2d[0][0]        \n",
            "__________________________________________________________________________________________________\n",
            "incresB_4b1_1conv2dact (Activat (None, 60, 60, 128)  0           incresB_4b1_1conv2dbn[0][0]      \n",
            "__________________________________________________________________________________________________\n",
            "incresB_4b1_2conv2d (Conv2D)    (None, 60, 60, 160)  143360      incresB_4b1_1conv2dact[0][0]     \n",
            "__________________________________________________________________________________________________\n",
            "incresB_4b1_2conv2dbn (BatchNor (None, 60, 60, 160)  480         incresB_4b1_2conv2d[0][0]        \n",
            "__________________________________________________________________________________________________\n",
            "incresB_4b1_2conv2dact (Activat (None, 60, 60, 160)  0           incresB_4b1_2conv2dbn[0][0]      \n",
            "__________________________________________________________________________________________________\n",
            "incresB_4b0conv2d (Conv2D)      (None, 60, 60, 192)  221184      incresB_3act_scaling[0][0]       \n",
            "__________________________________________________________________________________________________\n",
            "incresB_4b1_3conv2d (Conv2D)    (None, 60, 60, 192)  215040      incresB_4b1_2conv2dact[0][0]     \n",
            "__________________________________________________________________________________________________\n",
            "incresB_4b0conv2dbn (BatchNorma (None, 60, 60, 192)  576         incresB_4b0conv2d[0][0]          \n",
            "__________________________________________________________________________________________________\n",
            "incresB_4b1_3conv2dbn (BatchNor (None, 60, 60, 192)  576         incresB_4b1_3conv2d[0][0]        \n",
            "__________________________________________________________________________________________________\n",
            "incresB_4b0conv2dact (Activatio (None, 60, 60, 192)  0           incresB_4b0conv2dbn[0][0]        \n",
            "__________________________________________________________________________________________________\n",
            "incresB_4b1_3conv2dact (Activat (None, 60, 60, 192)  0           incresB_4b1_3conv2dbn[0][0]      \n",
            "__________________________________________________________________________________________________\n",
            "incresB_4_mixed (Concatenate)   (None, 60, 60, 384)  0           incresB_4b0conv2dact[0][0]       \n",
            "                                                                 incresB_4b1_3conv2dact[0][0]     \n",
            "__________________________________________________________________________________________________\n",
            "incresB_4filt_exp_1x1conv2d (Co (None, 60, 60, 1152) 442368      incresB_4_mixed[0][0]            \n",
            "__________________________________________________________________________________________________\n",
            "incresB_4filt_exp_1x1conv2dbn ( (None, 60, 60, 1152) 3456        incresB_4filt_exp_1x1conv2d[0][0]\n",
            "__________________________________________________________________________________________________\n",
            "incresB_4act_scaling (Lambda)   (None, 60, 60, 1152) 0           incresB_3act_scaling[0][0]       \n",
            "                                                                 incresB_4filt_exp_1x1conv2dbn[0][\n",
            "__________________________________________________________________________________________________\n",
            "incresB_5b1_1conv2d (Conv2D)    (None, 60, 60, 128)  147456      incresB_4act_scaling[0][0]       \n",
            "__________________________________________________________________________________________________\n",
            "incresB_5b1_1conv2dbn (BatchNor (None, 60, 60, 128)  384         incresB_5b1_1conv2d[0][0]        \n",
            "__________________________________________________________________________________________________\n",
            "incresB_5b1_1conv2dact (Activat (None, 60, 60, 128)  0           incresB_5b1_1conv2dbn[0][0]      \n",
            "__________________________________________________________________________________________________\n",
            "incresB_5b1_2conv2d (Conv2D)    (None, 60, 60, 160)  143360      incresB_5b1_1conv2dact[0][0]     \n",
            "__________________________________________________________________________________________________\n",
            "incresB_5b1_2conv2dbn (BatchNor (None, 60, 60, 160)  480         incresB_5b1_2conv2d[0][0]        \n",
            "__________________________________________________________________________________________________\n",
            "incresB_5b1_2conv2dact (Activat (None, 60, 60, 160)  0           incresB_5b1_2conv2dbn[0][0]      \n",
            "__________________________________________________________________________________________________\n",
            "incresB_5b0conv2d (Conv2D)      (None, 60, 60, 192)  221184      incresB_4act_scaling[0][0]       \n",
            "__________________________________________________________________________________________________\n",
            "incresB_5b1_3conv2d (Conv2D)    (None, 60, 60, 192)  215040      incresB_5b1_2conv2dact[0][0]     \n",
            "__________________________________________________________________________________________________\n",
            "incresB_5b0conv2dbn (BatchNorma (None, 60, 60, 192)  576         incresB_5b0conv2d[0][0]          \n",
            "__________________________________________________________________________________________________\n",
            "incresB_5b1_3conv2dbn (BatchNor (None, 60, 60, 192)  576         incresB_5b1_3conv2d[0][0]        \n",
            "__________________________________________________________________________________________________\n",
            "incresB_5b0conv2dact (Activatio (None, 60, 60, 192)  0           incresB_5b0conv2dbn[0][0]        \n",
            "__________________________________________________________________________________________________\n",
            "incresB_5b1_3conv2dact (Activat (None, 60, 60, 192)  0           incresB_5b1_3conv2dbn[0][0]      \n",
            "__________________________________________________________________________________________________\n",
            "incresB_5_mixed (Concatenate)   (None, 60, 60, 384)  0           incresB_5b0conv2dact[0][0]       \n",
            "                                                                 incresB_5b1_3conv2dact[0][0]     \n",
            "__________________________________________________________________________________________________\n",
            "incresB_5filt_exp_1x1conv2d (Co (None, 60, 60, 1152) 442368      incresB_5_mixed[0][0]            \n",
            "__________________________________________________________________________________________________\n",
            "incresB_5filt_exp_1x1conv2dbn ( (None, 60, 60, 1152) 3456        incresB_5filt_exp_1x1conv2d[0][0]\n",
            "__________________________________________________________________________________________________\n",
            "incresB_5act_scaling (Lambda)   (None, 60, 60, 1152) 0           incresB_4act_scaling[0][0]       \n",
            "                                                                 incresB_5filt_exp_1x1conv2dbn[0][\n",
            "__________________________________________________________________________________________________\n",
            "incresB_6b1_1conv2d (Conv2D)    (None, 60, 60, 128)  147456      incresB_5act_scaling[0][0]       \n",
            "__________________________________________________________________________________________________\n",
            "incresB_6b1_1conv2dbn (BatchNor (None, 60, 60, 128)  384         incresB_6b1_1conv2d[0][0]        \n",
            "__________________________________________________________________________________________________\n",
            "incresB_6b1_1conv2dact (Activat (None, 60, 60, 128)  0           incresB_6b1_1conv2dbn[0][0]      \n",
            "__________________________________________________________________________________________________\n",
            "incresB_6b1_2conv2d (Conv2D)    (None, 60, 60, 160)  143360      incresB_6b1_1conv2dact[0][0]     \n",
            "__________________________________________________________________________________________________\n",
            "incresB_6b1_2conv2dbn (BatchNor (None, 60, 60, 160)  480         incresB_6b1_2conv2d[0][0]        \n",
            "__________________________________________________________________________________________________\n",
            "incresB_6b1_2conv2dact (Activat (None, 60, 60, 160)  0           incresB_6b1_2conv2dbn[0][0]      \n",
            "__________________________________________________________________________________________________\n",
            "incresB_6b0conv2d (Conv2D)      (None, 60, 60, 192)  221184      incresB_5act_scaling[0][0]       \n",
            "__________________________________________________________________________________________________\n",
            "incresB_6b1_3conv2d (Conv2D)    (None, 60, 60, 192)  215040      incresB_6b1_2conv2dact[0][0]     \n",
            "__________________________________________________________________________________________________\n",
            "incresB_6b0conv2dbn (BatchNorma (None, 60, 60, 192)  576         incresB_6b0conv2d[0][0]          \n",
            "__________________________________________________________________________________________________\n",
            "incresB_6b1_3conv2dbn (BatchNor (None, 60, 60, 192)  576         incresB_6b1_3conv2d[0][0]        \n",
            "__________________________________________________________________________________________________\n",
            "incresB_6b0conv2dact (Activatio (None, 60, 60, 192)  0           incresB_6b0conv2dbn[0][0]        \n",
            "__________________________________________________________________________________________________\n",
            "incresB_6b1_3conv2dact (Activat (None, 60, 60, 192)  0           incresB_6b1_3conv2dbn[0][0]      \n",
            "__________________________________________________________________________________________________\n",
            "incresB_6_mixed (Concatenate)   (None, 60, 60, 384)  0           incresB_6b0conv2dact[0][0]       \n",
            "                                                                 incresB_6b1_3conv2dact[0][0]     \n",
            "__________________________________________________________________________________________________\n",
            "incresB_6filt_exp_1x1conv2d (Co (None, 60, 60, 1152) 442368      incresB_6_mixed[0][0]            \n",
            "__________________________________________________________________________________________________\n",
            "incresB_6filt_exp_1x1conv2dbn ( (None, 60, 60, 1152) 3456        incresB_6filt_exp_1x1conv2d[0][0]\n",
            "__________________________________________________________________________________________________\n",
            "incresB_6act_scaling (Lambda)   (None, 60, 60, 1152) 0           incresB_5act_scaling[0][0]       \n",
            "                                                                 incresB_6filt_exp_1x1conv2dbn[0][\n",
            "__________________________________________________________________________________________________\n",
            "incresB_7b1_1conv2d (Conv2D)    (None, 60, 60, 128)  147456      incresB_6act_scaling[0][0]       \n",
            "__________________________________________________________________________________________________\n",
            "incresB_7b1_1conv2dbn (BatchNor (None, 60, 60, 128)  384         incresB_7b1_1conv2d[0][0]        \n",
            "__________________________________________________________________________________________________\n",
            "incresB_7b1_1conv2dact (Activat (None, 60, 60, 128)  0           incresB_7b1_1conv2dbn[0][0]      \n",
            "__________________________________________________________________________________________________\n",
            "incresB_7b1_2conv2d (Conv2D)    (None, 60, 60, 160)  143360      incresB_7b1_1conv2dact[0][0]     \n",
            "__________________________________________________________________________________________________\n",
            "incresB_7b1_2conv2dbn (BatchNor (None, 60, 60, 160)  480         incresB_7b1_2conv2d[0][0]        \n",
            "__________________________________________________________________________________________________\n",
            "incresB_7b1_2conv2dact (Activat (None, 60, 60, 160)  0           incresB_7b1_2conv2dbn[0][0]      \n",
            "__________________________________________________________________________________________________\n",
            "incresB_7b0conv2d (Conv2D)      (None, 60, 60, 192)  221184      incresB_6act_scaling[0][0]       \n",
            "__________________________________________________________________________________________________\n",
            "incresB_7b1_3conv2d (Conv2D)    (None, 60, 60, 192)  215040      incresB_7b1_2conv2dact[0][0]     \n",
            "__________________________________________________________________________________________________\n",
            "incresB_7b0conv2dbn (BatchNorma (None, 60, 60, 192)  576         incresB_7b0conv2d[0][0]          \n",
            "__________________________________________________________________________________________________\n",
            "incresB_7b1_3conv2dbn (BatchNor (None, 60, 60, 192)  576         incresB_7b1_3conv2d[0][0]        \n",
            "__________________________________________________________________________________________________\n",
            "incresB_7b0conv2dact (Activatio (None, 60, 60, 192)  0           incresB_7b0conv2dbn[0][0]        \n",
            "__________________________________________________________________________________________________\n",
            "incresB_7b1_3conv2dact (Activat (None, 60, 60, 192)  0           incresB_7b1_3conv2dbn[0][0]      \n",
            "__________________________________________________________________________________________________\n",
            "incresB_7_mixed (Concatenate)   (None, 60, 60, 384)  0           incresB_7b0conv2dact[0][0]       \n",
            "                                                                 incresB_7b1_3conv2dact[0][0]     \n",
            "__________________________________________________________________________________________________\n",
            "incresB_7filt_exp_1x1conv2d (Co (None, 60, 60, 1152) 442368      incresB_7_mixed[0][0]            \n",
            "__________________________________________________________________________________________________\n",
            "incresB_7filt_exp_1x1conv2dbn ( (None, 60, 60, 1152) 3456        incresB_7filt_exp_1x1conv2d[0][0]\n",
            "__________________________________________________________________________________________________\n",
            "incresB_7act_scaling (Lambda)   (None, 60, 60, 1152) 0           incresB_6act_scaling[0][0]       \n",
            "                                                                 incresB_7filt_exp_1x1conv2dbn[0][\n",
            "__________________________________________________________________________________________________\n",
            "x_red2_c31conv2d (Conv2D)       (None, 60, 60, 256)  294912      incresB_7act_scaling[0][0]       \n",
            "__________________________________________________________________________________________________\n",
            "x_red2_c31conv2dbn (BatchNormal (None, 60, 60, 256)  768         x_red2_c31conv2d[0][0]           \n",
            "__________________________________________________________________________________________________\n",
            "x_red2_c31conv2dact (Activation (None, 60, 60, 256)  0           x_red2_c31conv2dbn[0][0]         \n",
            "__________________________________________________________________________________________________\n",
            "x_red2_c11conv2d (Conv2D)       (None, 60, 60, 256)  294912      incresB_7act_scaling[0][0]       \n",
            "__________________________________________________________________________________________________\n",
            "x_red2_c21conv2d (Conv2D)       (None, 60, 60, 256)  294912      incresB_7act_scaling[0][0]       \n",
            "__________________________________________________________________________________________________\n",
            "x_red2_c32conv2d (Conv2D)       (None, 60, 60, 256)  589824      x_red2_c31conv2dact[0][0]        \n",
            "__________________________________________________________________________________________________\n",
            "x_red2_c11conv2dbn (BatchNormal (None, 60, 60, 256)  768         x_red2_c11conv2d[0][0]           \n",
            "__________________________________________________________________________________________________\n",
            "x_red2_c21conv2dbn (BatchNormal (None, 60, 60, 256)  768         x_red2_c21conv2d[0][0]           \n",
            "__________________________________________________________________________________________________\n",
            "x_red2_c32conv2dbn (BatchNormal (None, 60, 60, 256)  768         x_red2_c32conv2d[0][0]           \n",
            "__________________________________________________________________________________________________\n",
            "x_red2_c11conv2dact (Activation (None, 60, 60, 256)  0           x_red2_c11conv2dbn[0][0]         \n",
            "__________________________________________________________________________________________________\n",
            "x_red2_c21conv2dact (Activation (None, 60, 60, 256)  0           x_red2_c21conv2dbn[0][0]         \n",
            "__________________________________________________________________________________________________\n",
            "x_red2_c32conv2dact (Activation (None, 60, 60, 256)  0           x_red2_c32conv2dbn[0][0]         \n",
            "__________________________________________________________________________________________________\n",
            "x_red2_c12conv2d (Conv2D)       (None, 29, 29, 384)  884736      x_red2_c11conv2dact[0][0]        \n",
            "__________________________________________________________________________________________________\n",
            "x_red2_c22conv2d (Conv2D)       (None, 29, 29, 256)  589824      x_red2_c21conv2dact[0][0]        \n",
            "__________________________________________________________________________________________________\n",
            "x_red2_c33conv2d (Conv2D)       (None, 29, 29, 256)  589824      x_red2_c32conv2dact[0][0]        \n",
            "__________________________________________________________________________________________________\n",
            "x_red2_c12conv2dbn (BatchNormal (None, 29, 29, 384)  1152        x_red2_c12conv2d[0][0]           \n",
            "__________________________________________________________________________________________________\n",
            "x_red2_c22conv2dbn (BatchNormal (None, 29, 29, 256)  768         x_red2_c22conv2d[0][0]           \n",
            "__________________________________________________________________________________________________\n",
            "x_red2_c33conv2dbn (BatchNormal (None, 29, 29, 256)  768         x_red2_c33conv2d[0][0]           \n",
            "__________________________________________________________________________________________________\n",
            "red_maxpool_2 (MaxPooling2D)    (None, 29, 29, 1152) 0           incresB_7act_scaling[0][0]       \n",
            "__________________________________________________________________________________________________\n",
            "x_red2_c12conv2dact (Activation (None, 29, 29, 384)  0           x_red2_c12conv2dbn[0][0]         \n",
            "__________________________________________________________________________________________________\n",
            "x_red2_c22conv2dact (Activation (None, 29, 29, 256)  0           x_red2_c22conv2dbn[0][0]         \n",
            "__________________________________________________________________________________________________\n",
            "x_red2_c33conv2dact (Activation (None, 29, 29, 256)  0           x_red2_c33conv2dbn[0][0]         \n",
            "__________________________________________________________________________________________________\n",
            "red_concat_2 (Concatenate)      (None, 29, 29, 2048) 0           red_maxpool_2[0][0]              \n",
            "                                                                 x_red2_c12conv2dact[0][0]        \n",
            "                                                                 x_red2_c22conv2dact[0][0]        \n",
            "                                                                 x_red2_c33conv2dact[0][0]        \n",
            "__________________________________________________________________________________________________\n",
            "incresC_1b1_1conv2d (Conv2D)    (None, 29, 29, 192)  393216      red_concat_2[0][0]               \n",
            "__________________________________________________________________________________________________\n",
            "incresC_1b1_1conv2dbn (BatchNor (None, 29, 29, 192)  576         incresC_1b1_1conv2d[0][0]        \n",
            "__________________________________________________________________________________________________\n",
            "incresC_1b1_1conv2dact (Activat (None, 29, 29, 192)  0           incresC_1b1_1conv2dbn[0][0]      \n",
            "__________________________________________________________________________________________________\n",
            "incresC_1b1_2conv2d (Conv2D)    (None, 29, 29, 224)  129024      incresC_1b1_1conv2dact[0][0]     \n",
            "__________________________________________________________________________________________________\n",
            "incresC_1b1_2conv2dbn (BatchNor (None, 29, 29, 224)  672         incresC_1b1_2conv2d[0][0]        \n",
            "__________________________________________________________________________________________________\n",
            "incresC_1b1_2conv2dact (Activat (None, 29, 29, 224)  0           incresC_1b1_2conv2dbn[0][0]      \n",
            "__________________________________________________________________________________________________\n",
            "incresC_1b0conv2d (Conv2D)      (None, 29, 29, 192)  393216      red_concat_2[0][0]               \n",
            "__________________________________________________________________________________________________\n",
            "incresC_1b1_3conv2d (Conv2D)    (None, 29, 29, 256)  172032      incresC_1b1_2conv2dact[0][0]     \n",
            "__________________________________________________________________________________________________\n",
            "incresC_1b0conv2dbn (BatchNorma (None, 29, 29, 192)  576         incresC_1b0conv2d[0][0]          \n",
            "__________________________________________________________________________________________________\n",
            "incresC_1b1_3conv2dbn (BatchNor (None, 29, 29, 256)  768         incresC_1b1_3conv2d[0][0]        \n",
            "__________________________________________________________________________________________________\n",
            "incresC_1b0conv2dact (Activatio (None, 29, 29, 192)  0           incresC_1b0conv2dbn[0][0]        \n",
            "__________________________________________________________________________________________________\n",
            "incresC_1b1_3conv2dact (Activat (None, 29, 29, 256)  0           incresC_1b1_3conv2dbn[0][0]      \n",
            "__________________________________________________________________________________________________\n",
            "incresC_1_mixed (Concatenate)   (None, 29, 29, 448)  0           incresC_1b0conv2dact[0][0]       \n",
            "                                                                 incresC_1b1_3conv2dact[0][0]     \n",
            "__________________________________________________________________________________________________\n",
            "incresC_1fin1x1conv2d (Conv2D)  (None, 29, 29, 2048) 917504      incresC_1_mixed[0][0]            \n",
            "__________________________________________________________________________________________________\n",
            "incresC_1fin1x1conv2dbn (BatchN (None, 29, 29, 2048) 6144        incresC_1fin1x1conv2d[0][0]      \n",
            "__________________________________________________________________________________________________\n",
            "incresC_1act_saling (Lambda)    (None, 29, 29, 2048) 0           red_concat_2[0][0]               \n",
            "                                                                 incresC_1fin1x1conv2dbn[0][0]    \n",
            "__________________________________________________________________________________________________\n",
            "incresC_2b1_1conv2d (Conv2D)    (None, 29, 29, 192)  393216      incresC_1act_saling[0][0]        \n",
            "__________________________________________________________________________________________________\n",
            "incresC_2b1_1conv2dbn (BatchNor (None, 29, 29, 192)  576         incresC_2b1_1conv2d[0][0]        \n",
            "__________________________________________________________________________________________________\n",
            "incresC_2b1_1conv2dact (Activat (None, 29, 29, 192)  0           incresC_2b1_1conv2dbn[0][0]      \n",
            "__________________________________________________________________________________________________\n",
            "incresC_2b1_2conv2d (Conv2D)    (None, 29, 29, 224)  129024      incresC_2b1_1conv2dact[0][0]     \n",
            "__________________________________________________________________________________________________\n",
            "incresC_2b1_2conv2dbn (BatchNor (None, 29, 29, 224)  672         incresC_2b1_2conv2d[0][0]        \n",
            "__________________________________________________________________________________________________\n",
            "incresC_2b1_2conv2dact (Activat (None, 29, 29, 224)  0           incresC_2b1_2conv2dbn[0][0]      \n",
            "__________________________________________________________________________________________________\n",
            "incresC_2b0conv2d (Conv2D)      (None, 29, 29, 192)  393216      incresC_1act_saling[0][0]        \n",
            "__________________________________________________________________________________________________\n",
            "incresC_2b1_3conv2d (Conv2D)    (None, 29, 29, 256)  172032      incresC_2b1_2conv2dact[0][0]     \n",
            "__________________________________________________________________________________________________\n",
            "incresC_2b0conv2dbn (BatchNorma (None, 29, 29, 192)  576         incresC_2b0conv2d[0][0]          \n",
            "__________________________________________________________________________________________________\n",
            "incresC_2b1_3conv2dbn (BatchNor (None, 29, 29, 256)  768         incresC_2b1_3conv2d[0][0]        \n",
            "__________________________________________________________________________________________________\n",
            "incresC_2b0conv2dact (Activatio (None, 29, 29, 192)  0           incresC_2b0conv2dbn[0][0]        \n",
            "__________________________________________________________________________________________________\n",
            "incresC_2b1_3conv2dact (Activat (None, 29, 29, 256)  0           incresC_2b1_3conv2dbn[0][0]      \n",
            "__________________________________________________________________________________________________\n",
            "incresC_2_mixed (Concatenate)   (None, 29, 29, 448)  0           incresC_2b0conv2dact[0][0]       \n",
            "                                                                 incresC_2b1_3conv2dact[0][0]     \n",
            "__________________________________________________________________________________________________\n",
            "incresC_2fin1x1conv2d (Conv2D)  (None, 29, 29, 2048) 917504      incresC_2_mixed[0][0]            \n",
            "__________________________________________________________________________________________________\n",
            "incresC_2fin1x1conv2dbn (BatchN (None, 29, 29, 2048) 6144        incresC_2fin1x1conv2d[0][0]      \n",
            "__________________________________________________________________________________________________\n",
            "incresC_2act_saling (Lambda)    (None, 29, 29, 2048) 0           incresC_1act_saling[0][0]        \n",
            "                                                                 incresC_2fin1x1conv2dbn[0][0]    \n",
            "__________________________________________________________________________________________________\n",
            "incresC_3b1_1conv2d (Conv2D)    (None, 29, 29, 192)  393216      incresC_2act_saling[0][0]        \n",
            "__________________________________________________________________________________________________\n",
            "incresC_3b1_1conv2dbn (BatchNor (None, 29, 29, 192)  576         incresC_3b1_1conv2d[0][0]        \n",
            "__________________________________________________________________________________________________\n",
            "incresC_3b1_1conv2dact (Activat (None, 29, 29, 192)  0           incresC_3b1_1conv2dbn[0][0]      \n",
            "__________________________________________________________________________________________________\n",
            "incresC_3b1_2conv2d (Conv2D)    (None, 29, 29, 224)  129024      incresC_3b1_1conv2dact[0][0]     \n",
            "__________________________________________________________________________________________________\n",
            "incresC_3b1_2conv2dbn (BatchNor (None, 29, 29, 224)  672         incresC_3b1_2conv2d[0][0]        \n",
            "__________________________________________________________________________________________________\n",
            "incresC_3b1_2conv2dact (Activat (None, 29, 29, 224)  0           incresC_3b1_2conv2dbn[0][0]      \n",
            "__________________________________________________________________________________________________\n",
            "incresC_3b0conv2d (Conv2D)      (None, 29, 29, 192)  393216      incresC_2act_saling[0][0]        \n",
            "__________________________________________________________________________________________________\n",
            "incresC_3b1_3conv2d (Conv2D)    (None, 29, 29, 256)  172032      incresC_3b1_2conv2dact[0][0]     \n",
            "__________________________________________________________________________________________________\n",
            "incresC_3b0conv2dbn (BatchNorma (None, 29, 29, 192)  576         incresC_3b0conv2d[0][0]          \n",
            "__________________________________________________________________________________________________\n",
            "incresC_3b1_3conv2dbn (BatchNor (None, 29, 29, 256)  768         incresC_3b1_3conv2d[0][0]        \n",
            "__________________________________________________________________________________________________\n",
            "incresC_3b0conv2dact (Activatio (None, 29, 29, 192)  0           incresC_3b0conv2dbn[0][0]        \n",
            "__________________________________________________________________________________________________\n",
            "incresC_3b1_3conv2dact (Activat (None, 29, 29, 256)  0           incresC_3b1_3conv2dbn[0][0]      \n",
            "__________________________________________________________________________________________________\n",
            "incresC_3_mixed (Concatenate)   (None, 29, 29, 448)  0           incresC_3b0conv2dact[0][0]       \n",
            "                                                                 incresC_3b1_3conv2dact[0][0]     \n",
            "__________________________________________________________________________________________________\n",
            "incresC_3fin1x1conv2d (Conv2D)  (None, 29, 29, 2048) 917504      incresC_3_mixed[0][0]            \n",
            "__________________________________________________________________________________________________\n",
            "incresC_3fin1x1conv2dbn (BatchN (None, 29, 29, 2048) 6144        incresC_3fin1x1conv2d[0][0]      \n",
            "__________________________________________________________________________________________________\n",
            "incresC_3act_saling (Lambda)    (None, 29, 29, 2048) 0           incresC_2act_saling[0][0]        \n",
            "                                                                 incresC_3fin1x1conv2dbn[0][0]    \n",
            "__________________________________________________________________________________________________\n",
            "global_average_pooling2d (Globa (None, 2048)         0           incresC_3act_saling[0][0]        \n",
            "__________________________________________________________________________________________________\n",
            "dropout (Dropout)               (None, 2048)         0           global_average_pooling2d[0][0]   \n",
            "__________________________________________________________________________________________________\n",
            "dense (Dense)                   (None, 2)            4098        dropout[0][0]                    \n",
            "==================================================================================================\n",
            "Total params: 21,878,274\n",
            "Trainable params: 21,822,146\n",
            "Non-trainable params: 56,128\n",
            "__________________________________________________________________________________________________\n"
          ]
        }
      ]
    },
    {
      "cell_type": "markdown",
      "metadata": {
        "id": "xC2DpuqHC0fV"
      },
      "source": [
        "#Compile the model"
      ]
    },
    {
      "cell_type": "code",
      "metadata": {
        "id": "UjVLDToGzTYk"
      },
      "source": [
        "model.compile(Adam(learning_rate=0.01), \n",
        "              loss='categorical_crossentropy',\n",
        "              metrics=['accuracy'])"
      ],
      "execution_count": null,
      "outputs": []
    },
    {
      "cell_type": "markdown",
      "metadata": {
        "id": "l6EqoYXeC76n"
      },
      "source": [
        "##Check lengths of training and test data"
      ]
    },
    {
      "cell_type": "code",
      "metadata": {
        "colab": {
          "base_uri": "https://localhost:8080/"
        },
        "id": "1AENFfN_z51q",
        "outputId": "c4bad84a-8466-427c-fbbe-a6126344ccec"
      },
      "source": [
        "# Check lengths of training and test data \n",
        "len(train_data), len(valid_data)"
      ],
      "execution_count": null,
      "outputs": [
        {
          "output_type": "execute_result",
          "data": {
            "text/plain": [
              "(1930, 242)"
            ]
          },
          "metadata": {},
          "execution_count": 21
        }
      ]
    },
    {
      "cell_type": "markdown",
      "metadata": {
        "id": "qekPJtDw0cXU"
      },
      "source": [
        "##Model Checkpoint"
      ]
    },
    {
      "cell_type": "code",
      "metadata": {
        "id": "8Jvv6wOS0foS"
      },
      "source": [
        "filepath = 'model.h5'\n",
        "checkpoint = ModelCheckpoint(filepath, monitor='val_acc', \n",
        "                        verbose=1, save_best_only=True, mode='max')"
      ],
      "execution_count": null,
      "outputs": []
    },
    {
      "cell_type": "markdown",
      "metadata": {
        "id": "AlCsg_KY0rv2"
      },
      "source": [
        "##Early Stopping"
      ]
    },
    {
      "cell_type": "code",
      "metadata": {
        "id": "EqbFOTAr0n55"
      },
      "source": [
        "early = EarlyStopping(monitor=\"val_loss\", \n",
        "                      mode=\"min\", \n",
        "                      patience=4, restore_best_weights=True)\n",
        "callbacks_list = [checkpoint, early]"
      ],
      "execution_count": null,
      "outputs": []
    },
    {
      "cell_type": "markdown",
      "metadata": {
        "id": "7ESq3jzW0zmn"
      },
      "source": [
        "#Train the model"
      ]
    },
    {
      "cell_type": "code",
      "metadata": {
        "colab": {
          "base_uri": "https://localhost:8080/"
        },
        "id": "GfN7FSGx03iL",
        "outputId": "360dd39c-3f12-49ee-ee93-431f42299563"
      },
      "source": [
        "history = model.fit_generator(train_data,\n",
        "                              steps_per_epoch=len(train_data),          \n",
        "                              validation_data=valid_data,\n",
        "                              validation_steps=len(valid_data), \n",
        "                              epochs = 2)"
      ],
      "execution_count": null,
      "outputs": [
        {
          "metadata": {
            "tags": null
          },
          "name": "stderr",
          "output_type": "stream",
          "text": [
            "/usr/local/lib/python3.7/dist-packages/keras/engine/training.py:1972: UserWarning: `Model.fit_generator` is deprecated and will be removed in a future version. Please use `Model.fit`, which supports generators.\n",
            "  warnings.warn('`Model.fit_generator` is deprecated and '\n"
          ]
        },
        {
          "output_type": "stream",
          "name": "stdout",
          "text": [
            "Epoch 1/2\n",
            "1930/1930 [==============================] - 4404s 2s/step - loss: 1.1313 - accuracy: 0.7587 - val_loss: 0.4583 - val_accuracy: 0.8590\n",
            "Epoch 2/2\n",
            "1930/1930 [==============================] - 4199s 2s/step - loss: 0.8333 - accuracy: 0.8146 - val_loss: 0.4695 - val_accuracy: 0.8814\n"
          ]
        }
      ]
    },
    {
      "cell_type": "markdown",
      "metadata": {
        "id": "ZS0pMknKdH4v"
      },
      "source": [
        "Hasil terakhir\n",
        "/usr/local/lib/python3.7/dist-packages/keras/engine/training.py:1972: UserWarning: `Model.fit_generator` is deprecated and will be removed in a future version. Please use `Model.fit`, which supports generators.\n",
        "  warnings.warn('`Model.fit_generator` is deprecated and '\n",
        "Epoch 1/2\n",
        "1930/1930 [==============================] - 4532s 2s/step - loss: 1.0374 - accuracy: 0.7653 - val_loss: 0.5281 - val_accuracy: 0.8209\n",
        "Epoch 2/2\n",
        " 634/1930 [========>.....................] - ETA: 46:32 - loss: 0.5310 - accuracy: 0.8306"
      ]
    },
    {
      "cell_type": "markdown",
      "metadata": {
        "id": "d9s-fb1X92Xd"
      },
      "source": [
        "Hasil terakhir training\n",
        "/usr/local/lib/python3.7/dist-packages/keras/engine/training.py:1972: UserWarning: `Model.fit_generator` is deprecated and will be removed in a future version. Please use `Model.fit`, which supports generators.\n",
        "  warnings.warn('`Model.fit_generator` is deprecated and '\n",
        "Epoch 1/3\n",
        "1930/1930 [==============================] - 4305s 2s/step - loss: 1.0847 - accuracy: 0.7740 - val_loss: 2.5439 - val_accuracy: 0.8400\n",
        "Epoch 2/3\n",
        "1930/1930 [==============================] - 4043s 2s/step - loss: 0.8960 - accuracy: 0.8125 - val_loss: 0.4963 - val_accuracy: 0.8706\n",
        "Epoch 3/3\n",
        "1930/1930 [==============================] - 4038s 2s/step - loss: 0.6535 - accuracy: 0.8432 - val_loss: 1.9013 - val_accuracy: 0.8159"
      ]
    },
    {
      "cell_type": "markdown",
      "metadata": {
        "id": "2QWASXhudl7t"
      },
      "source": [
        "## Plot the training curves"
      ]
    },
    {
      "cell_type": "code",
      "metadata": {
        "colab": {
          "base_uri": "https://localhost:8080/",
          "height": 428
        },
        "id": "hXxWa6c9090W",
        "outputId": "148fc4de-f281-40dd-f8cb-f07ede3d5877"
      },
      "source": [
        "# Plot the training curves\n",
        "import pandas as pd\n",
        "pd.DataFrame(history.history).plot(figsize=(10, 7));"
      ],
      "execution_count": null,
      "outputs": [
        {
          "output_type": "display_data",
          "data": {
            "image/png": "[encoded data removed]",
            "text/plain": [
              "<Figure size 720x504 with 1 Axes>"
            ]
          },
          "metadata": {
            "needs_background": "light"
          }
        }
      ]
    },
    {
      "cell_type": "markdown",
      "metadata": {
        "id": "srGhzGV0ZdQG"
      },
      "source": [
        "#Evaluate the model"
      ]
    },
    {
      "cell_type": "code",
      "metadata": {
        "id": "fM7EeViqZxVq"
      },
      "source": [
        "# Plot the validation and training data separately\n",
        "def plot_loss_curves(history):\n",
        "  \"\"\"\n",
        "  Returns separate loss curves for training and validation metrics.\n",
        "  \"\"\" \n",
        "  loss = history.history['loss']\n",
        "  val_loss = history.history['val_loss']\n",
        "\n",
        "  accuracy = history.history['accuracy']\n",
        "  val_accuracy = history.history['val_accuracy']\n",
        "\n",
        "  epochs = range(len(history.history['loss']))\n",
        "\n",
        "  # Plot loss\n",
        "  plt.plot(epochs, loss, label='training_loss')\n",
        "  plt.plot(epochs, val_loss, label='val_loss')\n",
        "  plt.title('Loss')\n",
        "  plt.xlabel('Epochs')\n",
        "  plt.legend()\n",
        "\n",
        "  # Plot accuracy\n",
        "  plt.figure()\n",
        "  plt.plot(epochs, accuracy, label='training_accuracy')\n",
        "  plt.plot(epochs, val_accuracy, label='val_accuracy')\n",
        "  plt.title('Accuracy')\n",
        "  plt.xlabel('Epochs')\n",
        "  plt.legend();"
      ],
      "execution_count": null,
      "outputs": []
    },
    {
      "cell_type": "markdown",
      "metadata": {
        "id": "wtBLP5B2ds4N"
      },
      "source": [
        "## Check out the loss curves of model"
      ]
    },
    {
      "cell_type": "code",
      "metadata": {
        "id": "3fMAXcr9Z0jA",
        "colab": {
          "base_uri": "https://localhost:8080/",
          "height": 573
        },
        "outputId": "4c25bb6b-14c1-4931-ccb7-340b76a6bc2f"
      },
      "source": [
        "# Check out the loss curves of model\n",
        "plot_loss_curves(history)"
      ],
      "execution_count": null,
      "outputs": [
        {
          "output_type": "display_data",
          "data": {
            "image/png": "[encoded data removed]",
            "text/plain": [
              "<Figure size 432x288 with 1 Axes>"
            ]
          },
          "metadata": {
            "needs_background": "light"
          }
        },
        {
          "output_type": "display_data",
          "data": {
            "image/png": "[encoded data removed]",
            "text/plain": [
              "<Figure size 432x288 with 1 Axes>"
            ]
          },
          "metadata": {
            "needs_background": "light"
          }
        }
      ]
    },
    {
      "cell_type": "markdown",
      "metadata": {
        "id": "knJvMTvEdwDT"
      },
      "source": [
        "## Evaluate on the test data"
      ]
    },
    {
      "cell_type": "code",
      "metadata": {
        "id": "iCrXt427cn2R",
        "colab": {
          "base_uri": "https://localhost:8080/"
        },
        "outputId": "04a584d1-2470-4091-8a63-4a4ec4c803f1"
      },
      "source": [
        "# Evaluate on the test data\n",
        "model.evaluate(test_data)"
      ],
      "execution_count": null,
      "outputs": [
        {
          "output_type": "stream",
          "name": "stdout",
          "text": [
            "242/242 [==============================] - 270s 1s/step - loss: 0.4511 - accuracy: 0.8590\n"
          ]
        },
        {
          "output_type": "execute_result",
          "data": {
            "text/plain": [
              "[0.4511061906814575, 0.8590381145477295]"
            ]
          },
          "metadata": {},
          "execution_count": 29
        }
      ]
    },
    {
      "cell_type": "markdown",
      "metadata": {
        "id": "uJ0BkshiaqA5"
      },
      "source": [
        "#Saving and loading Model"
      ]
    },
    {
      "cell_type": "markdown",
      "metadata": {
        "id": "xuZZW-ujdzGM"
      },
      "source": [
        "## Save our model"
      ]
    },
    {
      "cell_type": "code",
      "metadata": {
        "id": "VXK4tOygas5G",
        "colab": {
          "base_uri": "https://localhost:8080/"
        },
        "outputId": "6dc0ec0d-24e0-419e-be80-45ccd5cbbcd3"
      },
      "source": [
        "# Save a model\n",
        "model.save(\"saved_trained_model\")"
      ],
      "execution_count": null,
      "outputs": [
        {
          "output_type": "stream",
          "name": "stdout",
          "text": [
            "INFO:tensorflow:Assets written to: saved_trained_model/assets\n"
          ]
        }
      ]
    },
    {
      "cell_type": "markdown",
      "metadata": {
        "id": "E7dq1IO2d2Wb"
      },
      "source": [
        "## Load in our model and evaluate it"
      ]
    },
    {
      "cell_type": "code",
      "metadata": {
        "id": "wV1bx2hgawkZ",
        "colab": {
          "base_uri": "https://localhost:8080/"
        },
        "outputId": "2600e124-3c57-4e05-9277-b3d727ba89d1"
      },
      "source": [
        "# Load in a model and evaluate it\n",
        "loaded_model = tf.keras.models.load_model(\"saved_trained_model\")\n",
        "loaded_model.evaluate(test_data)"
      ],
      "execution_count": null,
      "outputs": [
        {
          "output_type": "stream",
          "name": "stdout",
          "text": [
            "242/242 [==============================] - 155s 634ms/step - loss: 0.4511 - accuracy: 0.8590\n"
          ]
        },
        {
          "output_type": "execute_result",
          "data": {
            "text/plain": [
              "[0.45110639929771423, 0.8590381145477295]"
            ]
          },
          "metadata": {},
          "execution_count": 31
        }
      ]
    },
    {
      "cell_type": "markdown",
      "metadata": {
        "id": "c-FWIA1nd6YX"
      },
      "source": [
        "## Compare our unsaved model's results (same as above)"
      ]
    },
    {
      "cell_type": "code",
      "metadata": {
        "id": "yKcGRyeZa5wB",
        "colab": {
          "base_uri": "https://localhost:8080/"
        },
        "outputId": "cae8d9f1-95b8-49d9-8440-c53360a9a91a"
      },
      "source": [
        "# Compare our unsaved model's results (same as above)\n",
        "model.evaluate(test_data)"
      ],
      "execution_count": null,
      "outputs": [
        {
          "output_type": "stream",
          "name": "stdout",
          "text": [
            "242/242 [==============================] - 152s 629ms/step - loss: 0.4511 - accuracy: 0.8590\n"
          ]
        },
        {
          "output_type": "execute_result",
          "data": {
            "text/plain": [
              "[0.45110633969306946, 0.8590381145477295]"
            ]
          },
          "metadata": {},
          "execution_count": 32
        }
      ]
    }
  ]
}